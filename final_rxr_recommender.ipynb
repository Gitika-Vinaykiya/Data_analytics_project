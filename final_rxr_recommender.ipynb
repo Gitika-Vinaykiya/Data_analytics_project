{
 "cells": [
  {
   "cell_type": "code",
   "execution_count": 1,
   "metadata": {},
   "outputs": [],
   "source": [
    "from sklearn.model_selection import train_test_split       # for splitting dataset\n",
    "from tensorflow.keras.preprocessing.text import Tokenizer  # to encode text to int\n",
    "from tensorflow.keras.preprocessing.sequence import pad_sequences   # to do padding or truncating\n",
    "from tensorflow.keras.models import Sequential     # the model\n",
    "from tensorflow.keras.layers import Embedding, LSTM, Dense # layers of the architecture\n",
    "from tensorflow.keras.callbacks import ModelCheckpoint   # save model\n",
    "from tensorflow.keras.models import load_model   # load saved model\n",
    "import re\n",
    "from sklearn.feature_extraction.text import CountVectorizer\n",
    "from sklearn.metrics.pairwise import cosine_similarity\n",
    "from sklearn.feature_extraction.text import TfidfVectorizer\n",
    "from sklearn.feature_extraction.text import CountVectorizer\n",
    "from sklearn.model_selection import GridSearchCV\n",
    "from sklearn.naive_bayes import  MultinomialNB\n",
    "from sklearn.metrics import classification_report\n",
    "from sklearn.linear_model import LogisticRegression\n",
    "from math import cos, asin, sqrt, pi"
   ]
  },
  {
   "cell_type": "code",
   "execution_count": 2,
   "metadata": {},
   "outputs": [],
   "source": [
    "def csrc(df):\n",
    "    list2 = []\n",
    "    for i in df.cuisines:\n",
    "        list2.append(list(set(i)))\n",
    "    \n",
    "    vect = CountVectorizer(analyzer = lambda x:x)\n",
    "    matrix2=vect.fit_transform(list2).toarray()\n",
    "    \n",
    "    cosine_similarities_cui = cosine_similarity(matrix2, matrix2)\n",
    "    return cosine_similarities_cui,vect    "
   ]
  },
  {
   "cell_type": "code",
   "execution_count": 3,
   "metadata": {},
   "outputs": [],
   "source": [
    "def csrd(df):\n",
    "    list1 = []\n",
    "    for i in df.dish_liked:\n",
    "        list1.append(list(set(i)))\n",
    "    vect = CountVectorizer(analyzer = lambda x:x)\n",
    "    matrix1=vect.fit_transform(list1).toarray()\n",
    "    \n",
    "    cosine_similarities_dish = cosine_similarity(matrix1, matrix1)\n",
    "    return cosine_similarities_dish,vect"
   ]
  },
  {
   "cell_type": "code",
   "execution_count": 4,
   "metadata": {},
   "outputs": [],
   "source": [
    "def csrr(df):\n",
    "    \n",
    "    tfidf = TfidfVectorizer(analyzer='word', ngram_range=(1, 2), min_df=0, stop_words='english')\n",
    "    tfidf_matrix_reviews = tfidf.fit_transform(df['reviews'])\n",
    "    \n",
    "    cosine_similarities_rewiew = cosine_similarity(tfidf_matrix_reviews, tfidf_matrix_reviews)\n",
    "    return cosine_similarities_rewiew,tfidf"
   ]
  },
  {
   "cell_type": "code",
   "execution_count": 5,
   "metadata": {},
   "outputs": [],
   "source": [
    "def sentiment_lr_mnb(rating):\n",
    "    vectorizer = CountVectorizer(token_pattern=r'\\b\\w+\\b',ngram_range=(1,2))\n",
    "    train_matrix= vectorizer.fit_transform(rating['Lemma'])\n",
    "    lr = LogisticRegression()\n",
    "    X_train = train_matrix\n",
    "    #X_test = test_matrix\n",
    "    y_train = rating['rate_pred1']\n",
    "    lr.fit(X_train,y_train)\n",
    "    clf = MultinomialNB(alpha=1)\n",
    "    clf.fit(X_train,y_train)\n",
    "    return lr,clf,vectorizer \n"
   ]
  },
  {
   "cell_type": "code",
   "execution_count": 6,
   "metadata": {},
   "outputs": [],
   "source": [
    "def get_max_length(x):\n",
    "    review_length = []\n",
    "    for review in x:\n",
    "        review_length.append(len(review))\n",
    "    return int(np.ceil(np.mean(review_length)))\n",
    "def sentiment_lstm(rating):\n",
    "    x=rating['Lemma']\n",
    "    y=rating['rate_pred1']\n",
    "    token = Tokenizer(lower=False)    # no need lower, because already lowered the data in load_data()\n",
    "    token.fit_on_texts(x)\n",
    "    x= token.texts_to_sequences(x)\n",
    "\n",
    "    max_length = get_max_length(x)\n",
    "\n",
    "    x = pad_sequences(x, maxlen=max_length, padding='post', truncating='post')\n",
    "\n",
    "    total_words = len(token.word_index) + 1\n",
    "    EMBED_DIM = 32\n",
    "    LSTM_OUT = 64\n",
    "\n",
    "    model = Sequential()\n",
    "    model.add(Embedding(total_words, EMBED_DIM, input_length = max_length))\n",
    "    model.add(LSTM(LSTM_OUT))\n",
    "    model.add(Dense(1, activation='sigmoid'))\n",
    "    model.compile(optimizer = 'adam', loss = 'binary_crossentropy', metrics = ['accuracy'])\n",
    "    checkpoint = ModelCheckpoint(\n",
    "    'models/LSTM.h5',\n",
    "    monitor='accuracy',\n",
    "    save_best_only=True,\n",
    "    verbose=1\n",
    "    )\n",
    "    model.fit(x, y, batch_size = 128, epochs = 5, callbacks=[checkpoint])\n",
    "    return model,token,max_length"
   ]
  },
  {
   "cell_type": "code",
   "execution_count": 7,
   "metadata": {},
   "outputs": [],
   "source": [
    "def recommend(index,cosine_similarities,df):\n",
    "    indices=pd.Series(df.index)\n",
    "    # Create a list to put top restaurants\n",
    "    restaurant_recom = []\n",
    "    for i in index:\n",
    "        # Find the index of the hotel entered\n",
    "        idx = indices[indices == i].index[0]\n",
    "\n",
    "        # Find the restaurants with a similar cosine-sim value and order them from bigges number\n",
    "        score_series = pd.Series(cosine_similarities[idx]).sort_values(ascending=False)\n",
    "\n",
    "        # Extract top 30 restaurant indexes with a similar cosine-sim value\n",
    "        top30_indexes = list(score_series.iloc[0:30].index)\n",
    "\n",
    "        # Names of the top 30 restaurants\n",
    "        for each in top30_indexes:\n",
    "            restaurant_recom.append(list(df.index)[each])\n",
    "\n",
    "    df_new = pd.DataFrame(columns=df.columns)\n",
    "\n",
    "    for item in  restaurant_recom:\n",
    "        df_new = df_new.append(pd.DataFrame(df[df.columns][df.index == item].sample()))\n",
    "    return df_new\n",
    "    "
   ]
  },
  {
   "cell_type": "code",
   "execution_count": 8,
   "metadata": {},
   "outputs": [],
   "source": [
    "\n",
    "def chooseloc(df,la,lo,cost):\n",
    "    df['man_dist']=0\n",
    "    df['loc_dist_km']=0\n",
    "    lm=[]\n",
    "    lk=[]\n",
    "    for i,j in (zip(df.iloc[:,16],df.iloc[:,17])):\n",
    "        p = pi/180\n",
    "        a = 0.5 - cos((la-float(i))*p)/2 + cos(la*p) * cos(float(i)*p) * (1-cos((lo-float(j))*p))/2\n",
    "        d=12742 * asin(sqrt(a))\n",
    "        m=abs(float(i)-la)+abs(float(j)-lo)\n",
    "        lm.append(m)\n",
    "        lk.append(d)\n",
    "    df[\"man_dist\"]=lm\n",
    "    df[\"loc_dist_km\"]=lk\n",
    "    df=df[(df['approx_cost(for two people)']<cost)]\n",
    "    df=df[df['loc_dist_km']<5]\n",
    "    df=df[df['final_rate']>3]\n",
    "    df=df.sort_values(by=[\"final_rate\",\"loc_dist_km\"],ascending=(False,True))\n",
    "    return df"
   ]
  },
  {
   "cell_type": "code",
   "execution_count": 9,
   "metadata": {},
   "outputs": [],
   "source": [
    "def choosetime(t,user):\n",
    "    if(t<dt.time(11,30) and t>=dt.time(5,30)):\n",
    "        mor=user[(user['Time'].dt.time < dt.time(11,30)) & (user['Time'].dt.time >= dt.time(5,30))]\n",
    "        return mor\n",
    "    elif(t>=dt.time(11,30) and t<dt.time(16,0)):\n",
    "        noon=user[(user['Time'].dt.time >= dt.time(11,30)) & (user['Time'].dt.time < dt.time(16,0))]\n",
    "        return noon\n",
    "    else:\n",
    "        night=user[(user['Time'].dt.time >= dt.time(16,0)) | (user['Time'].dt.time < dt.time(5,30))]\n",
    "        return night"
   ]
  },
  {
   "cell_type": "markdown",
   "metadata": {},
   "source": [
    "# call once\n"
   ]
  },
  {
   "cell_type": "code",
   "execution_count": 10,
   "metadata": {},
   "outputs": [
    {
     "data": {
      "application/javascript": [
       "\n",
       "        if (window._pyforest_update_imports_cell) { window._pyforest_update_imports_cell('import pandas as pd'); }\n",
       "    "
      ],
      "text/plain": [
       "<IPython.core.display.Javascript object>"
      ]
     },
     "metadata": {},
     "output_type": "display_data"
    },
    {
     "data": {
      "application/javascript": [
       "\n",
       "        if (window._pyforest_update_imports_cell) { window._pyforest_update_imports_cell('import pandas as pd'); }\n",
       "    "
      ],
      "text/plain": [
       "<IPython.core.display.Javascript object>"
      ]
     },
     "metadata": {},
     "output_type": "display_data"
    }
   ],
   "source": [
    "rating = pd.read_pickle(\"Ratings2.pkl\")\n",
    "df=pd.read_pickle(\"pakka_final.pkl\")"
   ]
  },
  {
   "cell_type": "code",
   "execution_count": 11,
   "metadata": {
    "scrolled": false
   },
   "outputs": [
    {
     "name": "stderr",
     "output_type": "stream",
     "text": [
      "C:\\Users\\Noman\\Anaconda3\\lib\\site-packages\\sklearn\\linear_model\\_logistic.py:762: ConvergenceWarning: lbfgs failed to converge (status=1):\n",
      "STOP: TOTAL NO. of ITERATIONS REACHED LIMIT.\n",
      "\n",
      "Increase the number of iterations (max_iter) or scale the data as shown in:\n",
      "    https://scikit-learn.org/stable/modules/preprocessing.html\n",
      "Please also refer to the documentation for alternative solver options:\n",
      "    https://scikit-learn.org/stable/modules/linear_model.html#logistic-regression\n",
      "  n_iter_i = _check_optimize_result(\n"
     ]
    },
    {
     "data": {
      "application/javascript": [
       "\n",
       "        if (window._pyforest_update_imports_cell) { window._pyforest_update_imports_cell('import pandas as pd\\nimport numpy as np'); }\n",
       "    "
      ],
      "text/plain": [
       "<IPython.core.display.Javascript object>"
      ]
     },
     "metadata": {},
     "output_type": "display_data"
    },
    {
     "data": {
      "application/javascript": [
       "\n",
       "        if (window._pyforest_update_imports_cell) { window._pyforest_update_imports_cell('import pandas as pd\\nimport numpy as np'); }\n",
       "    "
      ],
      "text/plain": [
       "<IPython.core.display.Javascript object>"
      ]
     },
     "metadata": {},
     "output_type": "display_data"
    },
    {
     "name": "stdout",
     "output_type": "stream",
     "text": [
      "Epoch 1/5\n",
      "979/979 [==============================] - 30s 28ms/step - loss: 0.3618 - accuracy: 0.8397\n",
      "\n",
      "Epoch 00001: accuracy improved from -inf to 0.83975, saving model to models\\LSTM.h5\n",
      "Epoch 2/5\n",
      "979/979 [==============================] - 29s 29ms/step - loss: 0.2874 - accuracy: 0.8782\n",
      "\n",
      "Epoch 00002: accuracy improved from 0.83975 to 0.87821, saving model to models\\LSTM.h5\n",
      "Epoch 3/5\n",
      "979/979 [==============================] - 28s 29ms/step - loss: 0.2530 - accuracy: 0.8928\n",
      "\n",
      "Epoch 00003: accuracy improved from 0.87821 to 0.89280, saving model to models\\LSTM.h5\n",
      "Epoch 4/5\n",
      "979/979 [==============================] - 29s 30ms/step - loss: 0.2222 - accuracy: 0.9030\n",
      "\n",
      "Epoch 00004: accuracy improved from 0.89280 to 0.90298, saving model to models\\LSTM.h5\n",
      "Epoch 5/5\n",
      "979/979 [==============================] - 52s 53ms/step - loss: 0.1961 - accuracy: 0.9147\n",
      "\n",
      "Epoch 00005: accuracy improved from 0.90298 to 0.91473, saving model to models\\LSTM.h5\n"
     ]
    }
   ],
   "source": [
    "cosine_similarities_cui,vectc=csrc(df)\n",
    "cosine_similarities_dish,vectd=csrd(df)\n",
    "cosine_similarities_rewiew,vectr=csrr(df)\n",
    "cosine_similarities_final = cosine_similarities_rewiew + cosine_similarities_cui + cosine_similarities_dish\n",
    "cosine_similarities_dc=cosine_similarities_cui + cosine_similarities_dish\n",
    "lr,mnb,sentivectlr = sentiment_lr_mnb(rating)\n",
    "lstm,lstmtoken,max_length = sentiment_lstm(rating)"
   ]
  },
  {
   "cell_type": "markdown",
   "metadata": {},
   "source": [
    "##### user"
   ]
  },
  {
   "cell_type": "code",
   "execution_count": null,
   "metadata": {},
   "outputs": [],
   "source": []
  },
  {
   "cell_type": "code",
   "execution_count": 12,
   "metadata": {},
   "outputs": [],
   "source": [
    "def rec_user(user,t,lat,long,df):\n",
    "    timing=choosetime(t,user)\n",
    "    c=0\n",
    "    while(len(timing)==0 and c<2):\n",
    "        c+=1\n",
    "        if(dt.time(5,30)<=t and t<dt.time(11,30)):\n",
    "            t=dt.time(12,0)\n",
    "            timing=choosetime(t,user)\n",
    "        elif(dt.time(16,0)>t and t>=dt.time(11,30)):\n",
    "            t=dt.time(17,0)\n",
    "            timing=choosetime(t,user)\n",
    "        else:\n",
    "            t=dt.time(12,0)\n",
    "            timing=choosetime(t,user)\n",
    "    #------no timing\n",
    "    if(len(timing)==0):\n",
    "        final_rec=chooseloc(df,lat,long,costt)\n",
    "        return final_rec\n",
    "    else:\n",
    "        test_matrix = sentivectlr.transform(timing['Review'])\n",
    "        predlr = lr.predict(test_matrix)\n",
    "        prednb=mnb.predict(test_matrix)\n",
    "        x_test=timing['Review']\n",
    "        x_test = lstmtoken.texts_to_sequences(x_test)\n",
    "        x_test = pad_sequences(x_test, maxlen=max_length, padding='post', truncating='post')\n",
    "        pred = list(lstm.predict(x_test))\n",
    "        for i in range(len(pred)):\n",
    "            pred[i]=int(round(pred[i][0],0))\n",
    "        predlstm=np.array(pred)\n",
    "        majority=list(predlr+prednb+predlstm)\n",
    "        l=[]\n",
    "        n=[]\n",
    "        for i in range(len(majority)):\n",
    "            if majority[i] >=2:\n",
    "                l.append(user['Restaurant_Id'][i])\n",
    "            else:\n",
    "                n.append(user['Restaurant_Id'][i])\n",
    "                continue\n",
    "        if(len(l)>0):\n",
    "            rec=recommend(l,cosine_similarities_final,df)\n",
    "        else:\n",
    "            rec=recommend(n,cosine_similarity_dc)\n",
    "        rec= rec.drop_duplicates(['name','address'])\n",
    "        print(rec)\n",
    "        costt=max(timing['Price'])+100\n",
    "        final_rec=chooseloc(rec,lat,long,costt)\n",
    "        return final_rec,timing"
   ]
  },
  {
   "cell_type": "code",
   "execution_count": 13,
   "metadata": {
    "scrolled": false
   },
   "outputs": [
    {
     "data": {
      "application/javascript": [
       "\n",
       "        if (window._pyforest_update_imports_cell) { window._pyforest_update_imports_cell('import pandas as pd\\nimport numpy as np'); }\n",
       "    "
      ],
      "text/plain": [
       "<IPython.core.display.Javascript object>"
      ]
     },
     "metadata": {},
     "output_type": "display_data"
    },
    {
     "data": {
      "application/javascript": [
       "\n",
       "        if (window._pyforest_update_imports_cell) { window._pyforest_update_imports_cell('import pandas as pd\\nimport numpy as np'); }\n",
       "    "
      ],
      "text/plain": [
       "<IPython.core.display.Javascript object>"
      ]
     },
     "metadata": {},
     "output_type": "display_data"
    },
    {
     "data": {
      "application/javascript": [
       "\n",
       "        if (window._pyforest_update_imports_cell) { window._pyforest_update_imports_cell('import pandas as pd\\nimport numpy as np'); }\n",
       "    "
      ],
      "text/plain": [
       "<IPython.core.display.Javascript object>"
      ]
     },
     "metadata": {},
     "output_type": "display_data"
    },
    {
     "data": {
      "application/javascript": [
       "\n",
       "        if (window._pyforest_update_imports_cell) { window._pyforest_update_imports_cell('import pandas as pd\\nimport numpy as np'); }\n",
       "    "
      ],
      "text/plain": [
       "<IPython.core.display.Javascript object>"
      ]
     },
     "metadata": {},
     "output_type": "display_data"
    },
    {
     "data": {
      "application/javascript": [
       "\n",
       "        if (window._pyforest_update_imports_cell) { window._pyforest_update_imports_cell('import pandas as pd\\nimport numpy as np'); }\n",
       "    "
      ],
      "text/plain": [
       "<IPython.core.display.Javascript object>"
      ]
     },
     "metadata": {},
     "output_type": "display_data"
    },
    {
     "data": {
      "application/javascript": [
       "\n",
       "        if (window._pyforest_update_imports_cell) { window._pyforest_update_imports_cell('import pandas as pd\\nimport numpy as np'); }\n",
       "    "
      ],
      "text/plain": [
       "<IPython.core.display.Javascript object>"
      ]
     },
     "metadata": {},
     "output_type": "display_data"
    },
    {
     "data": {
      "application/javascript": [
       "\n",
       "        if (window._pyforest_update_imports_cell) { window._pyforest_update_imports_cell('import pandas as pd\\nimport numpy as np'); }\n",
       "    "
      ],
      "text/plain": [
       "<IPython.core.display.Javascript object>"
      ]
     },
     "metadata": {},
     "output_type": "display_data"
    },
    {
     "data": {
      "application/javascript": [
       "\n",
       "        if (window._pyforest_update_imports_cell) { window._pyforest_update_imports_cell('import pandas as pd\\nimport numpy as np'); }\n",
       "    "
      ],
      "text/plain": [
       "<IPython.core.display.Javascript object>"
      ]
     },
     "metadata": {},
     "output_type": "display_data"
    },
    {
     "data": {
      "application/javascript": [
       "\n",
       "        if (window._pyforest_update_imports_cell) { window._pyforest_update_imports_cell('import pandas as pd\\nimport numpy as np'); }\n",
       "    "
      ],
      "text/plain": [
       "<IPython.core.display.Javascript object>"
      ]
     },
     "metadata": {},
     "output_type": "display_data"
    },
    {
     "data": {
      "application/javascript": [
       "\n",
       "        if (window._pyforest_update_imports_cell) { window._pyforest_update_imports_cell('import pandas as pd\\nimport numpy as np'); }\n",
       "    "
      ],
      "text/plain": [
       "<IPython.core.display.Javascript object>"
      ]
     },
     "metadata": {},
     "output_type": "display_data"
    },
    {
     "data": {
      "application/javascript": [
       "\n",
       "        if (window._pyforest_update_imports_cell) { window._pyforest_update_imports_cell('import pandas as pd\\nimport numpy as np'); }\n",
       "    "
      ],
      "text/plain": [
       "<IPython.core.display.Javascript object>"
      ]
     },
     "metadata": {},
     "output_type": "display_data"
    },
    {
     "data": {
      "application/javascript": [
       "\n",
       "        if (window._pyforest_update_imports_cell) { window._pyforest_update_imports_cell('import pandas as pd\\nimport numpy as np'); }\n",
       "    "
      ],
      "text/plain": [
       "<IPython.core.display.Javascript object>"
      ]
     },
     "metadata": {},
     "output_type": "display_data"
    },
    {
     "data": {
      "application/javascript": [
       "\n",
       "        if (window._pyforest_update_imports_cell) { window._pyforest_update_imports_cell('import pandas as pd\\nimport numpy as np'); }\n",
       "    "
      ],
      "text/plain": [
       "<IPython.core.display.Javascript object>"
      ]
     },
     "metadata": {},
     "output_type": "display_data"
    },
    {
     "data": {
      "application/javascript": [
       "\n",
       "        if (window._pyforest_update_imports_cell) { window._pyforest_update_imports_cell('import pandas as pd\\nimport numpy as np'); }\n",
       "    "
      ],
      "text/plain": [
       "<IPython.core.display.Javascript object>"
      ]
     },
     "metadata": {},
     "output_type": "display_data"
    },
    {
     "data": {
      "application/javascript": [
       "\n",
       "        if (window._pyforest_update_imports_cell) { window._pyforest_update_imports_cell('import pandas as pd\\nimport numpy as np'); }\n",
       "    "
      ],
      "text/plain": [
       "<IPython.core.display.Javascript object>"
      ]
     },
     "metadata": {},
     "output_type": "display_data"
    },
    {
     "data": {
      "application/javascript": [
       "\n",
       "        if (window._pyforest_update_imports_cell) { window._pyforest_update_imports_cell('import pandas as pd\\nimport numpy as np'); }\n",
       "    "
      ],
      "text/plain": [
       "<IPython.core.display.Javascript object>"
      ]
     },
     "metadata": {},
     "output_type": "display_data"
    },
    {
     "data": {
      "application/javascript": [
       "\n",
       "        if (window._pyforest_update_imports_cell) { window._pyforest_update_imports_cell('import pandas as pd\\nimport numpy as np'); }\n",
       "    "
      ],
      "text/plain": [
       "<IPython.core.display.Javascript object>"
      ]
     },
     "metadata": {},
     "output_type": "display_data"
    },
    {
     "data": {
      "application/javascript": [
       "\n",
       "        if (window._pyforest_update_imports_cell) { window._pyforest_update_imports_cell('import pandas as pd\\nimport numpy as np'); }\n",
       "    "
      ],
      "text/plain": [
       "<IPython.core.display.Javascript object>"
      ]
     },
     "metadata": {},
     "output_type": "display_data"
    },
    {
     "data": {
      "application/javascript": [
       "\n",
       "        if (window._pyforest_update_imports_cell) { window._pyforest_update_imports_cell('import pandas as pd\\nimport numpy as np'); }\n",
       "    "
      ],
      "text/plain": [
       "<IPython.core.display.Javascript object>"
      ]
     },
     "metadata": {},
     "output_type": "display_data"
    },
    {
     "data": {
      "application/javascript": [
       "\n",
       "        if (window._pyforest_update_imports_cell) { window._pyforest_update_imports_cell('import pandas as pd\\nimport numpy as np'); }\n",
       "    "
      ],
      "text/plain": [
       "<IPython.core.display.Javascript object>"
      ]
     },
     "metadata": {},
     "output_type": "display_data"
    },
    {
     "data": {
      "application/javascript": [
       "\n",
       "        if (window._pyforest_update_imports_cell) { window._pyforest_update_imports_cell('import pandas as pd\\nimport numpy as np'); }\n",
       "    "
      ],
      "text/plain": [
       "<IPython.core.display.Javascript object>"
      ]
     },
     "metadata": {},
     "output_type": "display_data"
    },
    {
     "data": {
      "application/javascript": [
       "\n",
       "        if (window._pyforest_update_imports_cell) { window._pyforest_update_imports_cell('import pandas as pd\\nimport numpy as np'); }\n",
       "    "
      ],
      "text/plain": [
       "<IPython.core.display.Javascript object>"
      ]
     },
     "metadata": {},
     "output_type": "display_data"
    },
    {
     "data": {
      "application/javascript": [
       "\n",
       "        if (window._pyforest_update_imports_cell) { window._pyforest_update_imports_cell('import pandas as pd\\nimport numpy as np'); }\n",
       "    "
      ],
      "text/plain": [
       "<IPython.core.display.Javascript object>"
      ]
     },
     "metadata": {},
     "output_type": "display_data"
    },
    {
     "data": {
      "application/javascript": [
       "\n",
       "        if (window._pyforest_update_imports_cell) { window._pyforest_update_imports_cell('import pandas as pd\\nimport numpy as np'); }\n",
       "    "
      ],
      "text/plain": [
       "<IPython.core.display.Javascript object>"
      ]
     },
     "metadata": {},
     "output_type": "display_data"
    },
    {
     "data": {
      "application/javascript": [
       "\n",
       "        if (window._pyforest_update_imports_cell) { window._pyforest_update_imports_cell('import pandas as pd\\nimport numpy as np'); }\n",
       "    "
      ],
      "text/plain": [
       "<IPython.core.display.Javascript object>"
      ]
     },
     "metadata": {},
     "output_type": "display_data"
    },
    {
     "data": {
      "application/javascript": [
       "\n",
       "        if (window._pyforest_update_imports_cell) { window._pyforest_update_imports_cell('import pandas as pd\\nimport numpy as np'); }\n",
       "    "
      ],
      "text/plain": [
       "<IPython.core.display.Javascript object>"
      ]
     },
     "metadata": {},
     "output_type": "display_data"
    },
    {
     "data": {
      "application/javascript": [
       "\n",
       "        if (window._pyforest_update_imports_cell) { window._pyforest_update_imports_cell('import pandas as pd\\nimport numpy as np'); }\n",
       "    "
      ],
      "text/plain": [
       "<IPython.core.display.Javascript object>"
      ]
     },
     "metadata": {},
     "output_type": "display_data"
    },
    {
     "data": {
      "application/javascript": [
       "\n",
       "        if (window._pyforest_update_imports_cell) { window._pyforest_update_imports_cell('import pandas as pd\\nimport numpy as np'); }\n",
       "    "
      ],
      "text/plain": [
       "<IPython.core.display.Javascript object>"
      ]
     },
     "metadata": {},
     "output_type": "display_data"
    },
    {
     "data": {
      "application/javascript": [
       "\n",
       "        if (window._pyforest_update_imports_cell) { window._pyforest_update_imports_cell('import pandas as pd\\nimport numpy as np'); }\n",
       "    "
      ],
      "text/plain": [
       "<IPython.core.display.Javascript object>"
      ]
     },
     "metadata": {},
     "output_type": "display_data"
    },
    {
     "data": {
      "application/javascript": [
       "\n",
       "        if (window._pyforest_update_imports_cell) { window._pyforest_update_imports_cell('import pandas as pd\\nimport numpy as np'); }\n",
       "    "
      ],
      "text/plain": [
       "<IPython.core.display.Javascript object>"
      ]
     },
     "metadata": {},
     "output_type": "display_data"
    },
    {
     "data": {
      "application/javascript": [
       "\n",
       "        if (window._pyforest_update_imports_cell) { window._pyforest_update_imports_cell('import pandas as pd\\nimport numpy as np'); }\n",
       "    "
      ],
      "text/plain": [
       "<IPython.core.display.Javascript object>"
      ]
     },
     "metadata": {},
     "output_type": "display_data"
    },
    {
     "data": {
      "application/javascript": [
       "\n",
       "        if (window._pyforest_update_imports_cell) { window._pyforest_update_imports_cell('import pandas as pd\\nimport numpy as np'); }\n",
       "    "
      ],
      "text/plain": [
       "<IPython.core.display.Javascript object>"
      ]
     },
     "metadata": {},
     "output_type": "display_data"
    },
    {
     "data": {
      "application/javascript": [
       "\n",
       "        if (window._pyforest_update_imports_cell) { window._pyforest_update_imports_cell('import pandas as pd\\nimport numpy as np'); }\n",
       "    "
      ],
      "text/plain": [
       "<IPython.core.display.Javascript object>"
      ]
     },
     "metadata": {},
     "output_type": "display_data"
    },
    {
     "data": {
      "application/javascript": [
       "\n",
       "        if (window._pyforest_update_imports_cell) { window._pyforest_update_imports_cell('import pandas as pd\\nimport numpy as np'); }\n",
       "    "
      ],
      "text/plain": [
       "<IPython.core.display.Javascript object>"
      ]
     },
     "metadata": {},
     "output_type": "display_data"
    },
    {
     "data": {
      "application/javascript": [
       "\n",
       "        if (window._pyforest_update_imports_cell) { window._pyforest_update_imports_cell('import pandas as pd\\nimport numpy as np'); }\n",
       "    "
      ],
      "text/plain": [
       "<IPython.core.display.Javascript object>"
      ]
     },
     "metadata": {},
     "output_type": "display_data"
    },
    {
     "data": {
      "application/javascript": [
       "\n",
       "        if (window._pyforest_update_imports_cell) { window._pyforest_update_imports_cell('import pandas as pd\\nimport numpy as np'); }\n",
       "    "
      ],
      "text/plain": [
       "<IPython.core.display.Javascript object>"
      ]
     },
     "metadata": {},
     "output_type": "display_data"
    },
    {
     "data": {
      "application/javascript": [
       "\n",
       "        if (window._pyforest_update_imports_cell) { window._pyforest_update_imports_cell('import pandas as pd\\nimport numpy as np'); }\n",
       "    "
      ],
      "text/plain": [
       "<IPython.core.display.Javascript object>"
      ]
     },
     "metadata": {},
     "output_type": "display_data"
    },
    {
     "data": {
      "application/javascript": [
       "\n",
       "        if (window._pyforest_update_imports_cell) { window._pyforest_update_imports_cell('import pandas as pd\\nimport numpy as np'); }\n",
       "    "
      ],
      "text/plain": [
       "<IPython.core.display.Javascript object>"
      ]
     },
     "metadata": {},
     "output_type": "display_data"
    },
    {
     "data": {
      "application/javascript": [
       "\n",
       "        if (window._pyforest_update_imports_cell) { window._pyforest_update_imports_cell('import pandas as pd\\nimport numpy as np'); }\n",
       "    "
      ],
      "text/plain": [
       "<IPython.core.display.Javascript object>"
      ]
     },
     "metadata": {},
     "output_type": "display_data"
    },
    {
     "data": {
      "application/javascript": [
       "\n",
       "        if (window._pyforest_update_imports_cell) { window._pyforest_update_imports_cell('import pandas as pd\\nimport numpy as np'); }\n",
       "    "
      ],
      "text/plain": [
       "<IPython.core.display.Javascript object>"
      ]
     },
     "metadata": {},
     "output_type": "display_data"
    },
    {
     "data": {
      "application/javascript": [
       "\n",
       "        if (window._pyforest_update_imports_cell) { window._pyforest_update_imports_cell('import pandas as pd\\nimport numpy as np'); }\n",
       "    "
      ],
      "text/plain": [
       "<IPython.core.display.Javascript object>"
      ]
     },
     "metadata": {},
     "output_type": "display_data"
    },
    {
     "data": {
      "application/javascript": [
       "\n",
       "        if (window._pyforest_update_imports_cell) { window._pyforest_update_imports_cell('import pandas as pd\\nimport numpy as np'); }\n",
       "    "
      ],
      "text/plain": [
       "<IPython.core.display.Javascript object>"
      ]
     },
     "metadata": {},
     "output_type": "display_data"
    },
    {
     "data": {
      "application/javascript": [
       "\n",
       "        if (window._pyforest_update_imports_cell) { window._pyforest_update_imports_cell('import pandas as pd\\nimport numpy as np'); }\n",
       "    "
      ],
      "text/plain": [
       "<IPython.core.display.Javascript object>"
      ]
     },
     "metadata": {},
     "output_type": "display_data"
    },
    {
     "data": {
      "application/javascript": [
       "\n",
       "        if (window._pyforest_update_imports_cell) { window._pyforest_update_imports_cell('import pandas as pd\\nimport numpy as np'); }\n",
       "    "
      ],
      "text/plain": [
       "<IPython.core.display.Javascript object>"
      ]
     },
     "metadata": {},
     "output_type": "display_data"
    },
    {
     "data": {
      "application/javascript": [
       "\n",
       "        if (window._pyforest_update_imports_cell) { window._pyforest_update_imports_cell('import pandas as pd\\nimport numpy as np'); }\n",
       "    "
      ],
      "text/plain": [
       "<IPython.core.display.Javascript object>"
      ]
     },
     "metadata": {},
     "output_type": "display_data"
    },
    {
     "data": {
      "application/javascript": [
       "\n",
       "        if (window._pyforest_update_imports_cell) { window._pyforest_update_imports_cell('import pandas as pd\\nimport numpy as np'); }\n",
       "    "
      ],
      "text/plain": [
       "<IPython.core.display.Javascript object>"
      ]
     },
     "metadata": {},
     "output_type": "display_data"
    },
    {
     "data": {
      "application/javascript": [
       "\n",
       "        if (window._pyforest_update_imports_cell) { window._pyforest_update_imports_cell('import pandas as pd\\nimport numpy as np'); }\n",
       "    "
      ],
      "text/plain": [
       "<IPython.core.display.Javascript object>"
      ]
     },
     "metadata": {},
     "output_type": "display_data"
    },
    {
     "data": {
      "application/javascript": [
       "\n",
       "        if (window._pyforest_update_imports_cell) { window._pyforest_update_imports_cell('import pandas as pd\\nimport numpy as np'); }\n",
       "    "
      ],
      "text/plain": [
       "<IPython.core.display.Javascript object>"
      ]
     },
     "metadata": {},
     "output_type": "display_data"
    },
    {
     "data": {
      "application/javascript": [
       "\n",
       "        if (window._pyforest_update_imports_cell) { window._pyforest_update_imports_cell('import pandas as pd\\nimport numpy as np'); }\n",
       "    "
      ],
      "text/plain": [
       "<IPython.core.display.Javascript object>"
      ]
     },
     "metadata": {},
     "output_type": "display_data"
    },
    {
     "data": {
      "application/javascript": [
       "\n",
       "        if (window._pyforest_update_imports_cell) { window._pyforest_update_imports_cell('import pandas as pd\\nimport numpy as np'); }\n",
       "    "
      ],
      "text/plain": [
       "<IPython.core.display.Javascript object>"
      ]
     },
     "metadata": {},
     "output_type": "display_data"
    },
    {
     "data": {
      "application/javascript": [
       "\n",
       "        if (window._pyforest_update_imports_cell) { window._pyforest_update_imports_cell('import pandas as pd\\nimport numpy as np'); }\n",
       "    "
      ],
      "text/plain": [
       "<IPython.core.display.Javascript object>"
      ]
     },
     "metadata": {},
     "output_type": "display_data"
    },
    {
     "data": {
      "application/javascript": [
       "\n",
       "        if (window._pyforest_update_imports_cell) { window._pyforest_update_imports_cell('import pandas as pd\\nimport numpy as np'); }\n",
       "    "
      ],
      "text/plain": [
       "<IPython.core.display.Javascript object>"
      ]
     },
     "metadata": {},
     "output_type": "display_data"
    },
    {
     "data": {
      "application/javascript": [
       "\n",
       "        if (window._pyforest_update_imports_cell) { window._pyforest_update_imports_cell('import pandas as pd\\nimport numpy as np'); }\n",
       "    "
      ],
      "text/plain": [
       "<IPython.core.display.Javascript object>"
      ]
     },
     "metadata": {},
     "output_type": "display_data"
    },
    {
     "data": {
      "application/javascript": [
       "\n",
       "        if (window._pyforest_update_imports_cell) { window._pyforest_update_imports_cell('import pandas as pd\\nimport numpy as np'); }\n",
       "    "
      ],
      "text/plain": [
       "<IPython.core.display.Javascript object>"
      ]
     },
     "metadata": {},
     "output_type": "display_data"
    },
    {
     "data": {
      "application/javascript": [
       "\n",
       "        if (window._pyforest_update_imports_cell) { window._pyforest_update_imports_cell('import pandas as pd\\nimport numpy as np'); }\n",
       "    "
      ],
      "text/plain": [
       "<IPython.core.display.Javascript object>"
      ]
     },
     "metadata": {},
     "output_type": "display_data"
    },
    {
     "data": {
      "application/javascript": [
       "\n",
       "        if (window._pyforest_update_imports_cell) { window._pyforest_update_imports_cell('import pandas as pd\\nimport numpy as np'); }\n",
       "    "
      ],
      "text/plain": [
       "<IPython.core.display.Javascript object>"
      ]
     },
     "metadata": {},
     "output_type": "display_data"
    },
    {
     "data": {
      "application/javascript": [
       "\n",
       "        if (window._pyforest_update_imports_cell) { window._pyforest_update_imports_cell('import pandas as pd\\nimport numpy as np'); }\n",
       "    "
      ],
      "text/plain": [
       "<IPython.core.display.Javascript object>"
      ]
     },
     "metadata": {},
     "output_type": "display_data"
    },
    {
     "data": {
      "application/javascript": [
       "\n",
       "        if (window._pyforest_update_imports_cell) { window._pyforest_update_imports_cell('import pandas as pd\\nimport numpy as np'); }\n",
       "    "
      ],
      "text/plain": [
       "<IPython.core.display.Javascript object>"
      ]
     },
     "metadata": {},
     "output_type": "display_data"
    },
    {
     "data": {
      "application/javascript": [
       "\n",
       "        if (window._pyforest_update_imports_cell) { window._pyforest_update_imports_cell('import pandas as pd\\nimport numpy as np'); }\n",
       "    "
      ],
      "text/plain": [
       "<IPython.core.display.Javascript object>"
      ]
     },
     "metadata": {},
     "output_type": "display_data"
    },
    {
     "data": {
      "application/javascript": [
       "\n",
       "        if (window._pyforest_update_imports_cell) { window._pyforest_update_imports_cell('import pandas as pd\\nimport numpy as np'); }\n",
       "    "
      ],
      "text/plain": [
       "<IPython.core.display.Javascript object>"
      ]
     },
     "metadata": {},
     "output_type": "display_data"
    },
    {
     "data": {
      "application/javascript": [
       "\n",
       "        if (window._pyforest_update_imports_cell) { window._pyforest_update_imports_cell('import pandas as pd\\nimport numpy as np'); }\n",
       "    "
      ],
      "text/plain": [
       "<IPython.core.display.Javascript object>"
      ]
     },
     "metadata": {},
     "output_type": "display_data"
    },
    {
     "data": {
      "application/javascript": [
       "\n",
       "        if (window._pyforest_update_imports_cell) { window._pyforest_update_imports_cell('import pandas as pd\\nimport numpy as np'); }\n",
       "    "
      ],
      "text/plain": [
       "<IPython.core.display.Javascript object>"
      ]
     },
     "metadata": {},
     "output_type": "display_data"
    },
    {
     "data": {
      "application/javascript": [
       "\n",
       "        if (window._pyforest_update_imports_cell) { window._pyforest_update_imports_cell('import pandas as pd\\nimport numpy as np'); }\n",
       "    "
      ],
      "text/plain": [
       "<IPython.core.display.Javascript object>"
      ]
     },
     "metadata": {},
     "output_type": "display_data"
    },
    {
     "data": {
      "application/javascript": [
       "\n",
       "        if (window._pyforest_update_imports_cell) { window._pyforest_update_imports_cell('import pandas as pd\\nimport numpy as np'); }\n",
       "    "
      ],
      "text/plain": [
       "<IPython.core.display.Javascript object>"
      ]
     },
     "metadata": {},
     "output_type": "display_data"
    },
    {
     "data": {
      "application/javascript": [
       "\n",
       "        if (window._pyforest_update_imports_cell) { window._pyforest_update_imports_cell('import pandas as pd\\nimport numpy as np'); }\n",
       "    "
      ],
      "text/plain": [
       "<IPython.core.display.Javascript object>"
      ]
     },
     "metadata": {},
     "output_type": "display_data"
    },
    {
     "data": {
      "application/javascript": [
       "\n",
       "        if (window._pyforest_update_imports_cell) { window._pyforest_update_imports_cell('import pandas as pd\\nimport numpy as np'); }\n",
       "    "
      ],
      "text/plain": [
       "<IPython.core.display.Javascript object>"
      ]
     },
     "metadata": {},
     "output_type": "display_data"
    },
    {
     "data": {
      "application/javascript": [
       "\n",
       "        if (window._pyforest_update_imports_cell) { window._pyforest_update_imports_cell('import pandas as pd\\nimport numpy as np'); }\n",
       "    "
      ],
      "text/plain": [
       "<IPython.core.display.Javascript object>"
      ]
     },
     "metadata": {},
     "output_type": "display_data"
    },
    {
     "data": {
      "application/javascript": [
       "\n",
       "        if (window._pyforest_update_imports_cell) { window._pyforest_update_imports_cell('import pandas as pd\\nimport numpy as np'); }\n",
       "    "
      ],
      "text/plain": [
       "<IPython.core.display.Javascript object>"
      ]
     },
     "metadata": {},
     "output_type": "display_data"
    },
    {
     "data": {
      "application/javascript": [
       "\n",
       "        if (window._pyforest_update_imports_cell) { window._pyforest_update_imports_cell('import pandas as pd\\nimport numpy as np'); }\n",
       "    "
      ],
      "text/plain": [
       "<IPython.core.display.Javascript object>"
      ]
     },
     "metadata": {},
     "output_type": "display_data"
    },
    {
     "data": {
      "application/javascript": [
       "\n",
       "        if (window._pyforest_update_imports_cell) { window._pyforest_update_imports_cell('import pandas as pd\\nimport numpy as np'); }\n",
       "    "
      ],
      "text/plain": [
       "<IPython.core.display.Javascript object>"
      ]
     },
     "metadata": {},
     "output_type": "display_data"
    },
    {
     "data": {
      "application/javascript": [
       "\n",
       "        if (window._pyforest_update_imports_cell) { window._pyforest_update_imports_cell('import pandas as pd\\nimport numpy as np'); }\n",
       "    "
      ],
      "text/plain": [
       "<IPython.core.display.Javascript object>"
      ]
     },
     "metadata": {},
     "output_type": "display_data"
    },
    {
     "data": {
      "application/javascript": [
       "\n",
       "        if (window._pyforest_update_imports_cell) { window._pyforest_update_imports_cell('import pandas as pd\\nimport numpy as np'); }\n",
       "    "
      ],
      "text/plain": [
       "<IPython.core.display.Javascript object>"
      ]
     },
     "metadata": {},
     "output_type": "display_data"
    },
    {
     "data": {
      "application/javascript": [
       "\n",
       "        if (window._pyforest_update_imports_cell) { window._pyforest_update_imports_cell('import pandas as pd\\nimport numpy as np'); }\n",
       "    "
      ],
      "text/plain": [
       "<IPython.core.display.Javascript object>"
      ]
     },
     "metadata": {},
     "output_type": "display_data"
    },
    {
     "data": {
      "application/javascript": [
       "\n",
       "        if (window._pyforest_update_imports_cell) { window._pyforest_update_imports_cell('import pandas as pd\\nimport numpy as np'); }\n",
       "    "
      ],
      "text/plain": [
       "<IPython.core.display.Javascript object>"
      ]
     },
     "metadata": {},
     "output_type": "display_data"
    },
    {
     "data": {
      "application/javascript": [
       "\n",
       "        if (window._pyforest_update_imports_cell) { window._pyforest_update_imports_cell('import pandas as pd\\nimport numpy as np'); }\n",
       "    "
      ],
      "text/plain": [
       "<IPython.core.display.Javascript object>"
      ]
     },
     "metadata": {},
     "output_type": "display_data"
    },
    {
     "data": {
      "application/javascript": [
       "\n",
       "        if (window._pyforest_update_imports_cell) { window._pyforest_update_imports_cell('import pandas as pd\\nimport numpy as np'); }\n",
       "    "
      ],
      "text/plain": [
       "<IPython.core.display.Javascript object>"
      ]
     },
     "metadata": {},
     "output_type": "display_data"
    },
    {
     "data": {
      "application/javascript": [
       "\n",
       "        if (window._pyforest_update_imports_cell) { window._pyforest_update_imports_cell('import pandas as pd\\nimport numpy as np'); }\n",
       "    "
      ],
      "text/plain": [
       "<IPython.core.display.Javascript object>"
      ]
     },
     "metadata": {},
     "output_type": "display_data"
    },
    {
     "data": {
      "application/javascript": [
       "\n",
       "        if (window._pyforest_update_imports_cell) { window._pyforest_update_imports_cell('import pandas as pd\\nimport numpy as np'); }\n",
       "    "
      ],
      "text/plain": [
       "<IPython.core.display.Javascript object>"
      ]
     },
     "metadata": {},
     "output_type": "display_data"
    },
    {
     "data": {
      "application/javascript": [
       "\n",
       "        if (window._pyforest_update_imports_cell) { window._pyforest_update_imports_cell('import pandas as pd\\nimport numpy as np'); }\n",
       "    "
      ],
      "text/plain": [
       "<IPython.core.display.Javascript object>"
      ]
     },
     "metadata": {},
     "output_type": "display_data"
    },
    {
     "data": {
      "application/javascript": [
       "\n",
       "        if (window._pyforest_update_imports_cell) { window._pyforest_update_imports_cell('import pandas as pd\\nimport numpy as np'); }\n",
       "    "
      ],
      "text/plain": [
       "<IPython.core.display.Javascript object>"
      ]
     },
     "metadata": {},
     "output_type": "display_data"
    },
    {
     "data": {
      "application/javascript": [
       "\n",
       "        if (window._pyforest_update_imports_cell) { window._pyforest_update_imports_cell('import pandas as pd\\nimport numpy as np'); }\n",
       "    "
      ],
      "text/plain": [
       "<IPython.core.display.Javascript object>"
      ]
     },
     "metadata": {},
     "output_type": "display_data"
    },
    {
     "data": {
      "application/javascript": [
       "\n",
       "        if (window._pyforest_update_imports_cell) { window._pyforest_update_imports_cell('import pandas as pd\\nimport numpy as np'); }\n",
       "    "
      ],
      "text/plain": [
       "<IPython.core.display.Javascript object>"
      ]
     },
     "metadata": {},
     "output_type": "display_data"
    },
    {
     "data": {
      "application/javascript": [
       "\n",
       "        if (window._pyforest_update_imports_cell) { window._pyforest_update_imports_cell('import pandas as pd\\nimport numpy as np'); }\n",
       "    "
      ],
      "text/plain": [
       "<IPython.core.display.Javascript object>"
      ]
     },
     "metadata": {},
     "output_type": "display_data"
    },
    {
     "data": {
      "application/javascript": [
       "\n",
       "        if (window._pyforest_update_imports_cell) { window._pyforest_update_imports_cell('import pandas as pd\\nimport numpy as np'); }\n",
       "    "
      ],
      "text/plain": [
       "<IPython.core.display.Javascript object>"
      ]
     },
     "metadata": {},
     "output_type": "display_data"
    },
    {
     "data": {
      "application/javascript": [
       "\n",
       "        if (window._pyforest_update_imports_cell) { window._pyforest_update_imports_cell('import pandas as pd\\nimport numpy as np'); }\n",
       "    "
      ],
      "text/plain": [
       "<IPython.core.display.Javascript object>"
      ]
     },
     "metadata": {},
     "output_type": "display_data"
    },
    {
     "data": {
      "application/javascript": [
       "\n",
       "        if (window._pyforest_update_imports_cell) { window._pyforest_update_imports_cell('import pandas as pd\\nimport numpy as np'); }\n",
       "    "
      ],
      "text/plain": [
       "<IPython.core.display.Javascript object>"
      ]
     },
     "metadata": {},
     "output_type": "display_data"
    },
    {
     "data": {
      "application/javascript": [
       "\n",
       "        if (window._pyforest_update_imports_cell) { window._pyforest_update_imports_cell('import pandas as pd\\nimport numpy as np'); }\n",
       "    "
      ],
      "text/plain": [
       "<IPython.core.display.Javascript object>"
      ]
     },
     "metadata": {},
     "output_type": "display_data"
    },
    {
     "data": {
      "application/javascript": [
       "\n",
       "        if (window._pyforest_update_imports_cell) { window._pyforest_update_imports_cell('import pandas as pd\\nimport numpy as np'); }\n",
       "    "
      ],
      "text/plain": [
       "<IPython.core.display.Javascript object>"
      ]
     },
     "metadata": {},
     "output_type": "display_data"
    },
    {
     "data": {
      "application/javascript": [
       "\n",
       "        if (window._pyforest_update_imports_cell) { window._pyforest_update_imports_cell('import pandas as pd\\nimport numpy as np'); }\n",
       "    "
      ],
      "text/plain": [
       "<IPython.core.display.Javascript object>"
      ]
     },
     "metadata": {},
     "output_type": "display_data"
    },
    {
     "data": {
      "application/javascript": [
       "\n",
       "        if (window._pyforest_update_imports_cell) { window._pyforest_update_imports_cell('import pandas as pd\\nimport numpy as np'); }\n",
       "    "
      ],
      "text/plain": [
       "<IPython.core.display.Javascript object>"
      ]
     },
     "metadata": {},
     "output_type": "display_data"
    },
    {
     "data": {
      "application/javascript": [
       "\n",
       "        if (window._pyforest_update_imports_cell) { window._pyforest_update_imports_cell('import pandas as pd\\nimport numpy as np'); }\n",
       "    "
      ],
      "text/plain": [
       "<IPython.core.display.Javascript object>"
      ]
     },
     "metadata": {},
     "output_type": "display_data"
    },
    {
     "data": {
      "application/javascript": [
       "\n",
       "        if (window._pyforest_update_imports_cell) { window._pyforest_update_imports_cell('import pandas as pd\\nimport numpy as np'); }\n",
       "    "
      ],
      "text/plain": [
       "<IPython.core.display.Javascript object>"
      ]
     },
     "metadata": {},
     "output_type": "display_data"
    },
    {
     "data": {
      "application/javascript": [
       "\n",
       "        if (window._pyforest_update_imports_cell) { window._pyforest_update_imports_cell('import pandas as pd\\nimport numpy as np'); }\n",
       "    "
      ],
      "text/plain": [
       "<IPython.core.display.Javascript object>"
      ]
     },
     "metadata": {},
     "output_type": "display_data"
    },
    {
     "data": {
      "application/javascript": [
       "\n",
       "        if (window._pyforest_update_imports_cell) { window._pyforest_update_imports_cell('import pandas as pd\\nimport numpy as np'); }\n",
       "    "
      ],
      "text/plain": [
       "<IPython.core.display.Javascript object>"
      ]
     },
     "metadata": {},
     "output_type": "display_data"
    },
    {
     "data": {
      "application/javascript": [
       "\n",
       "        if (window._pyforest_update_imports_cell) { window._pyforest_update_imports_cell('import pandas as pd\\nimport numpy as np'); }\n",
       "    "
      ],
      "text/plain": [
       "<IPython.core.display.Javascript object>"
      ]
     },
     "metadata": {},
     "output_type": "display_data"
    },
    {
     "data": {
      "application/javascript": [
       "\n",
       "        if (window._pyforest_update_imports_cell) { window._pyforest_update_imports_cell('import pandas as pd\\nimport numpy as np'); }\n",
       "    "
      ],
      "text/plain": [
       "<IPython.core.display.Javascript object>"
      ]
     },
     "metadata": {},
     "output_type": "display_data"
    },
    {
     "data": {
      "application/javascript": [
       "\n",
       "        if (window._pyforest_update_imports_cell) { window._pyforest_update_imports_cell('import pandas as pd\\nimport numpy as np'); }\n",
       "    "
      ],
      "text/plain": [
       "<IPython.core.display.Javascript object>"
      ]
     },
     "metadata": {},
     "output_type": "display_data"
    },
    {
     "data": {
      "application/javascript": [
       "\n",
       "        if (window._pyforest_update_imports_cell) { window._pyforest_update_imports_cell('import pandas as pd\\nimport numpy as np'); }\n",
       "    "
      ],
      "text/plain": [
       "<IPython.core.display.Javascript object>"
      ]
     },
     "metadata": {},
     "output_type": "display_data"
    },
    {
     "data": {
      "application/javascript": [
       "\n",
       "        if (window._pyforest_update_imports_cell) { window._pyforest_update_imports_cell('import pandas as pd\\nimport numpy as np'); }\n",
       "    "
      ],
      "text/plain": [
       "<IPython.core.display.Javascript object>"
      ]
     },
     "metadata": {},
     "output_type": "display_data"
    },
    {
     "data": {
      "application/javascript": [
       "\n",
       "        if (window._pyforest_update_imports_cell) { window._pyforest_update_imports_cell('import pandas as pd\\nimport numpy as np'); }\n",
       "    "
      ],
      "text/plain": [
       "<IPython.core.display.Javascript object>"
      ]
     },
     "metadata": {},
     "output_type": "display_data"
    },
    {
     "data": {
      "application/javascript": [
       "\n",
       "        if (window._pyforest_update_imports_cell) { window._pyforest_update_imports_cell('import pandas as pd\\nimport numpy as np'); }\n",
       "    "
      ],
      "text/plain": [
       "<IPython.core.display.Javascript object>"
      ]
     },
     "metadata": {},
     "output_type": "display_data"
    },
    {
     "data": {
      "application/javascript": [
       "\n",
       "        if (window._pyforest_update_imports_cell) { window._pyforest_update_imports_cell('import pandas as pd\\nimport numpy as np'); }\n",
       "    "
      ],
      "text/plain": [
       "<IPython.core.display.Javascript object>"
      ]
     },
     "metadata": {},
     "output_type": "display_data"
    },
    {
     "data": {
      "application/javascript": [
       "\n",
       "        if (window._pyforest_update_imports_cell) { window._pyforest_update_imports_cell('import pandas as pd\\nimport numpy as np'); }\n",
       "    "
      ],
      "text/plain": [
       "<IPython.core.display.Javascript object>"
      ]
     },
     "metadata": {},
     "output_type": "display_data"
    },
    {
     "data": {
      "application/javascript": [
       "\n",
       "        if (window._pyforest_update_imports_cell) { window._pyforest_update_imports_cell('import pandas as pd\\nimport numpy as np'); }\n",
       "    "
      ],
      "text/plain": [
       "<IPython.core.display.Javascript object>"
      ]
     },
     "metadata": {},
     "output_type": "display_data"
    },
    {
     "data": {
      "application/javascript": [
       "\n",
       "        if (window._pyforest_update_imports_cell) { window._pyforest_update_imports_cell('import pandas as pd\\nimport numpy as np'); }\n",
       "    "
      ],
      "text/plain": [
       "<IPython.core.display.Javascript object>"
      ]
     },
     "metadata": {},
     "output_type": "display_data"
    },
    {
     "data": {
      "application/javascript": [
       "\n",
       "        if (window._pyforest_update_imports_cell) { window._pyforest_update_imports_cell('import pandas as pd\\nimport numpy as np'); }\n",
       "    "
      ],
      "text/plain": [
       "<IPython.core.display.Javascript object>"
      ]
     },
     "metadata": {},
     "output_type": "display_data"
    },
    {
     "data": {
      "application/javascript": [
       "\n",
       "        if (window._pyforest_update_imports_cell) { window._pyforest_update_imports_cell('import pandas as pd\\nimport numpy as np'); }\n",
       "    "
      ],
      "text/plain": [
       "<IPython.core.display.Javascript object>"
      ]
     },
     "metadata": {},
     "output_type": "display_data"
    },
    {
     "data": {
      "application/javascript": [
       "\n",
       "        if (window._pyforest_update_imports_cell) { window._pyforest_update_imports_cell('import pandas as pd\\nimport numpy as np'); }\n",
       "    "
      ],
      "text/plain": [
       "<IPython.core.display.Javascript object>"
      ]
     },
     "metadata": {},
     "output_type": "display_data"
    },
    {
     "data": {
      "application/javascript": [
       "\n",
       "        if (window._pyforest_update_imports_cell) { window._pyforest_update_imports_cell('import pandas as pd\\nimport numpy as np'); }\n",
       "    "
      ],
      "text/plain": [
       "<IPython.core.display.Javascript object>"
      ]
     },
     "metadata": {},
     "output_type": "display_data"
    },
    {
     "data": {
      "application/javascript": [
       "\n",
       "        if (window._pyforest_update_imports_cell) { window._pyforest_update_imports_cell('import pandas as pd\\nimport numpy as np'); }\n",
       "    "
      ],
      "text/plain": [
       "<IPython.core.display.Javascript object>"
      ]
     },
     "metadata": {},
     "output_type": "display_data"
    },
    {
     "data": {
      "application/javascript": [
       "\n",
       "        if (window._pyforest_update_imports_cell) { window._pyforest_update_imports_cell('import pandas as pd\\nimport numpy as np'); }\n",
       "    "
      ],
      "text/plain": [
       "<IPython.core.display.Javascript object>"
      ]
     },
     "metadata": {},
     "output_type": "display_data"
    },
    {
     "data": {
      "application/javascript": [
       "\n",
       "        if (window._pyforest_update_imports_cell) { window._pyforest_update_imports_cell('import pandas as pd\\nimport numpy as np'); }\n",
       "    "
      ],
      "text/plain": [
       "<IPython.core.display.Javascript object>"
      ]
     },
     "metadata": {},
     "output_type": "display_data"
    },
    {
     "data": {
      "application/javascript": [
       "\n",
       "        if (window._pyforest_update_imports_cell) { window._pyforest_update_imports_cell('import pandas as pd\\nimport numpy as np'); }\n",
       "    "
      ],
      "text/plain": [
       "<IPython.core.display.Javascript object>"
      ]
     },
     "metadata": {},
     "output_type": "display_data"
    },
    {
     "data": {
      "application/javascript": [
       "\n",
       "        if (window._pyforest_update_imports_cell) { window._pyforest_update_imports_cell('import pandas as pd\\nimport numpy as np'); }\n",
       "    "
      ],
      "text/plain": [
       "<IPython.core.display.Javascript object>"
      ]
     },
     "metadata": {},
     "output_type": "display_data"
    },
    {
     "data": {
      "application/javascript": [
       "\n",
       "        if (window._pyforest_update_imports_cell) { window._pyforest_update_imports_cell('import pandas as pd\\nimport numpy as np'); }\n",
       "    "
      ],
      "text/plain": [
       "<IPython.core.display.Javascript object>"
      ]
     },
     "metadata": {},
     "output_type": "display_data"
    },
    {
     "data": {
      "application/javascript": [
       "\n",
       "        if (window._pyforest_update_imports_cell) { window._pyforest_update_imports_cell('import pandas as pd\\nimport numpy as np'); }\n",
       "    "
      ],
      "text/plain": [
       "<IPython.core.display.Javascript object>"
      ]
     },
     "metadata": {},
     "output_type": "display_data"
    },
    {
     "data": {
      "application/javascript": [
       "\n",
       "        if (window._pyforest_update_imports_cell) { window._pyforest_update_imports_cell('import pandas as pd\\nimport numpy as np'); }\n",
       "    "
      ],
      "text/plain": [
       "<IPython.core.display.Javascript object>"
      ]
     },
     "metadata": {},
     "output_type": "display_data"
    },
    {
     "data": {
      "application/javascript": [
       "\n",
       "        if (window._pyforest_update_imports_cell) { window._pyforest_update_imports_cell('import pandas as pd\\nimport numpy as np'); }\n",
       "    "
      ],
      "text/plain": [
       "<IPython.core.display.Javascript object>"
      ]
     },
     "metadata": {},
     "output_type": "display_data"
    },
    {
     "data": {
      "application/javascript": [
       "\n",
       "        if (window._pyforest_update_imports_cell) { window._pyforest_update_imports_cell('import pandas as pd\\nimport numpy as np'); }\n",
       "    "
      ],
      "text/plain": [
       "<IPython.core.display.Javascript object>"
      ]
     },
     "metadata": {},
     "output_type": "display_data"
    },
    {
     "data": {
      "application/javascript": [
       "\n",
       "        if (window._pyforest_update_imports_cell) { window._pyforest_update_imports_cell('import pandas as pd\\nimport numpy as np'); }\n",
       "    "
      ],
      "text/plain": [
       "<IPython.core.display.Javascript object>"
      ]
     },
     "metadata": {},
     "output_type": "display_data"
    },
    {
     "data": {
      "application/javascript": [
       "\n",
       "        if (window._pyforest_update_imports_cell) { window._pyforest_update_imports_cell('import pandas as pd\\nimport numpy as np'); }\n",
       "    "
      ],
      "text/plain": [
       "<IPython.core.display.Javascript object>"
      ]
     },
     "metadata": {},
     "output_type": "display_data"
    },
    {
     "data": {
      "application/javascript": [
       "\n",
       "        if (window._pyforest_update_imports_cell) { window._pyforest_update_imports_cell('import pandas as pd\\nimport numpy as np'); }\n",
       "    "
      ],
      "text/plain": [
       "<IPython.core.display.Javascript object>"
      ]
     },
     "metadata": {},
     "output_type": "display_data"
    },
    {
     "data": {
      "application/javascript": [
       "\n",
       "        if (window._pyforest_update_imports_cell) { window._pyforest_update_imports_cell('import pandas as pd\\nimport numpy as np'); }\n",
       "    "
      ],
      "text/plain": [
       "<IPython.core.display.Javascript object>"
      ]
     },
     "metadata": {},
     "output_type": "display_data"
    },
    {
     "data": {
      "application/javascript": [
       "\n",
       "        if (window._pyforest_update_imports_cell) { window._pyforest_update_imports_cell('import pandas as pd\\nimport numpy as np'); }\n",
       "    "
      ],
      "text/plain": [
       "<IPython.core.display.Javascript object>"
      ]
     },
     "metadata": {},
     "output_type": "display_data"
    },
    {
     "data": {
      "application/javascript": [
       "\n",
       "        if (window._pyforest_update_imports_cell) { window._pyforest_update_imports_cell('import pandas as pd\\nimport numpy as np'); }\n",
       "    "
      ],
      "text/plain": [
       "<IPython.core.display.Javascript object>"
      ]
     },
     "metadata": {},
     "output_type": "display_data"
    },
    {
     "data": {
      "application/javascript": [
       "\n",
       "        if (window._pyforest_update_imports_cell) { window._pyforest_update_imports_cell('import pandas as pd\\nimport numpy as np'); }\n",
       "    "
      ],
      "text/plain": [
       "<IPython.core.display.Javascript object>"
      ]
     },
     "metadata": {},
     "output_type": "display_data"
    },
    {
     "data": {
      "application/javascript": [
       "\n",
       "        if (window._pyforest_update_imports_cell) { window._pyforest_update_imports_cell('import pandas as pd\\nimport numpy as np'); }\n",
       "    "
      ],
      "text/plain": [
       "<IPython.core.display.Javascript object>"
      ]
     },
     "metadata": {},
     "output_type": "display_data"
    },
    {
     "data": {
      "application/javascript": [
       "\n",
       "        if (window._pyforest_update_imports_cell) { window._pyforest_update_imports_cell('import pandas as pd\\nimport numpy as np'); }\n",
       "    "
      ],
      "text/plain": [
       "<IPython.core.display.Javascript object>"
      ]
     },
     "metadata": {},
     "output_type": "display_data"
    },
    {
     "data": {
      "application/javascript": [
       "\n",
       "        if (window._pyforest_update_imports_cell) { window._pyforest_update_imports_cell('import pandas as pd\\nimport numpy as np'); }\n",
       "    "
      ],
      "text/plain": [
       "<IPython.core.display.Javascript object>"
      ]
     },
     "metadata": {},
     "output_type": "display_data"
    },
    {
     "data": {
      "application/javascript": [
       "\n",
       "        if (window._pyforest_update_imports_cell) { window._pyforest_update_imports_cell('import pandas as pd\\nimport numpy as np'); }\n",
       "    "
      ],
      "text/plain": [
       "<IPython.core.display.Javascript object>"
      ]
     },
     "metadata": {},
     "output_type": "display_data"
    },
    {
     "data": {
      "application/javascript": [
       "\n",
       "        if (window._pyforest_update_imports_cell) { window._pyforest_update_imports_cell('import pandas as pd\\nimport numpy as np'); }\n",
       "    "
      ],
      "text/plain": [
       "<IPython.core.display.Javascript object>"
      ]
     },
     "metadata": {},
     "output_type": "display_data"
    },
    {
     "data": {
      "application/javascript": [
       "\n",
       "        if (window._pyforest_update_imports_cell) { window._pyforest_update_imports_cell('import pandas as pd\\nimport numpy as np'); }\n",
       "    "
      ],
      "text/plain": [
       "<IPython.core.display.Javascript object>"
      ]
     },
     "metadata": {},
     "output_type": "display_data"
    },
    {
     "data": {
      "application/javascript": [
       "\n",
       "        if (window._pyforest_update_imports_cell) { window._pyforest_update_imports_cell('import pandas as pd\\nimport numpy as np'); }\n",
       "    "
      ],
      "text/plain": [
       "<IPython.core.display.Javascript object>"
      ]
     },
     "metadata": {},
     "output_type": "display_data"
    },
    {
     "data": {
      "application/javascript": [
       "\n",
       "        if (window._pyforest_update_imports_cell) { window._pyforest_update_imports_cell('import pandas as pd\\nimport numpy as np'); }\n",
       "    "
      ],
      "text/plain": [
       "<IPython.core.display.Javascript object>"
      ]
     },
     "metadata": {},
     "output_type": "display_data"
    },
    {
     "data": {
      "application/javascript": [
       "\n",
       "        if (window._pyforest_update_imports_cell) { window._pyforest_update_imports_cell('import pandas as pd\\nimport numpy as np'); }\n",
       "    "
      ],
      "text/plain": [
       "<IPython.core.display.Javascript object>"
      ]
     },
     "metadata": {},
     "output_type": "display_data"
    },
    {
     "data": {
      "application/javascript": [
       "\n",
       "        if (window._pyforest_update_imports_cell) { window._pyforest_update_imports_cell('import pandas as pd\\nimport numpy as np'); }\n",
       "    "
      ],
      "text/plain": [
       "<IPython.core.display.Javascript object>"
      ]
     },
     "metadata": {},
     "output_type": "display_data"
    },
    {
     "data": {
      "application/javascript": [
       "\n",
       "        if (window._pyforest_update_imports_cell) { window._pyforest_update_imports_cell('import pandas as pd\\nimport numpy as np'); }\n",
       "    "
      ],
      "text/plain": [
       "<IPython.core.display.Javascript object>"
      ]
     },
     "metadata": {},
     "output_type": "display_data"
    },
    {
     "data": {
      "application/javascript": [
       "\n",
       "        if (window._pyforest_update_imports_cell) { window._pyforest_update_imports_cell('import pandas as pd\\nimport numpy as np'); }\n",
       "    "
      ],
      "text/plain": [
       "<IPython.core.display.Javascript object>"
      ]
     },
     "metadata": {},
     "output_type": "display_data"
    },
    {
     "data": {
      "application/javascript": [
       "\n",
       "        if (window._pyforest_update_imports_cell) { window._pyforest_update_imports_cell('import pandas as pd\\nimport numpy as np'); }\n",
       "    "
      ],
      "text/plain": [
       "<IPython.core.display.Javascript object>"
      ]
     },
     "metadata": {},
     "output_type": "display_data"
    },
    {
     "data": {
      "application/javascript": [
       "\n",
       "        if (window._pyforest_update_imports_cell) { window._pyforest_update_imports_cell('import pandas as pd\\nimport numpy as np'); }\n",
       "    "
      ],
      "text/plain": [
       "<IPython.core.display.Javascript object>"
      ]
     },
     "metadata": {},
     "output_type": "display_data"
    },
    {
     "data": {
      "application/javascript": [
       "\n",
       "        if (window._pyforest_update_imports_cell) { window._pyforest_update_imports_cell('import pandas as pd\\nimport numpy as np'); }\n",
       "    "
      ],
      "text/plain": [
       "<IPython.core.display.Javascript object>"
      ]
     },
     "metadata": {},
     "output_type": "display_data"
    },
    {
     "data": {
      "application/javascript": [
       "\n",
       "        if (window._pyforest_update_imports_cell) { window._pyforest_update_imports_cell('import pandas as pd\\nimport numpy as np'); }\n",
       "    "
      ],
      "text/plain": [
       "<IPython.core.display.Javascript object>"
      ]
     },
     "metadata": {},
     "output_type": "display_data"
    },
    {
     "data": {
      "application/javascript": [
       "\n",
       "        if (window._pyforest_update_imports_cell) { window._pyforest_update_imports_cell('import pandas as pd\\nimport numpy as np'); }\n",
       "    "
      ],
      "text/plain": [
       "<IPython.core.display.Javascript object>"
      ]
     },
     "metadata": {},
     "output_type": "display_data"
    },
    {
     "data": {
      "application/javascript": [
       "\n",
       "        if (window._pyforest_update_imports_cell) { window._pyforest_update_imports_cell('import pandas as pd\\nimport numpy as np'); }\n",
       "    "
      ],
      "text/plain": [
       "<IPython.core.display.Javascript object>"
      ]
     },
     "metadata": {},
     "output_type": "display_data"
    },
    {
     "data": {
      "application/javascript": [
       "\n",
       "        if (window._pyforest_update_imports_cell) { window._pyforest_update_imports_cell('import pandas as pd\\nimport numpy as np'); }\n",
       "    "
      ],
      "text/plain": [
       "<IPython.core.display.Javascript object>"
      ]
     },
     "metadata": {},
     "output_type": "display_data"
    },
    {
     "data": {
      "application/javascript": [
       "\n",
       "        if (window._pyforest_update_imports_cell) { window._pyforest_update_imports_cell('import pandas as pd\\nimport numpy as np'); }\n",
       "    "
      ],
      "text/plain": [
       "<IPython.core.display.Javascript object>"
      ]
     },
     "metadata": {},
     "output_type": "display_data"
    },
    {
     "data": {
      "application/javascript": [
       "\n",
       "        if (window._pyforest_update_imports_cell) { window._pyforest_update_imports_cell('import pandas as pd\\nimport numpy as np'); }\n",
       "    "
      ],
      "text/plain": [
       "<IPython.core.display.Javascript object>"
      ]
     },
     "metadata": {},
     "output_type": "display_data"
    },
    {
     "data": {
      "application/javascript": [
       "\n",
       "        if (window._pyforest_update_imports_cell) { window._pyforest_update_imports_cell('import pandas as pd\\nimport numpy as np'); }\n",
       "    "
      ],
      "text/plain": [
       "<IPython.core.display.Javascript object>"
      ]
     },
     "metadata": {},
     "output_type": "display_data"
    },
    {
     "data": {
      "application/javascript": [
       "\n",
       "        if (window._pyforest_update_imports_cell) { window._pyforest_update_imports_cell('import pandas as pd\\nimport numpy as np'); }\n",
       "    "
      ],
      "text/plain": [
       "<IPython.core.display.Javascript object>"
      ]
     },
     "metadata": {},
     "output_type": "display_data"
    },
    {
     "data": {
      "application/javascript": [
       "\n",
       "        if (window._pyforest_update_imports_cell) { window._pyforest_update_imports_cell('import pandas as pd\\nimport numpy as np'); }\n",
       "    "
      ],
      "text/plain": [
       "<IPython.core.display.Javascript object>"
      ]
     },
     "metadata": {},
     "output_type": "display_data"
    },
    {
     "data": {
      "application/javascript": [
       "\n",
       "        if (window._pyforest_update_imports_cell) { window._pyforest_update_imports_cell('import pandas as pd\\nimport numpy as np'); }\n",
       "    "
      ],
      "text/plain": [
       "<IPython.core.display.Javascript object>"
      ]
     },
     "metadata": {},
     "output_type": "display_data"
    },
    {
     "data": {
      "application/javascript": [
       "\n",
       "        if (window._pyforest_update_imports_cell) { window._pyforest_update_imports_cell('import pandas as pd\\nimport numpy as np'); }\n",
       "    "
      ],
      "text/plain": [
       "<IPython.core.display.Javascript object>"
      ]
     },
     "metadata": {},
     "output_type": "display_data"
    },
    {
     "data": {
      "application/javascript": [
       "\n",
       "        if (window._pyforest_update_imports_cell) { window._pyforest_update_imports_cell('import pandas as pd\\nimport numpy as np'); }\n",
       "    "
      ],
      "text/plain": [
       "<IPython.core.display.Javascript object>"
      ]
     },
     "metadata": {},
     "output_type": "display_data"
    },
    {
     "data": {
      "application/javascript": [
       "\n",
       "        if (window._pyforest_update_imports_cell) { window._pyforest_update_imports_cell('import pandas as pd\\nimport numpy as np'); }\n",
       "    "
      ],
      "text/plain": [
       "<IPython.core.display.Javascript object>"
      ]
     },
     "metadata": {},
     "output_type": "display_data"
    },
    {
     "data": {
      "application/javascript": [
       "\n",
       "        if (window._pyforest_update_imports_cell) { window._pyforest_update_imports_cell('import pandas as pd\\nimport numpy as np'); }\n",
       "    "
      ],
      "text/plain": [
       "<IPython.core.display.Javascript object>"
      ]
     },
     "metadata": {},
     "output_type": "display_data"
    },
    {
     "data": {
      "application/javascript": [
       "\n",
       "        if (window._pyforest_update_imports_cell) { window._pyforest_update_imports_cell('import pandas as pd\\nimport numpy as np'); }\n",
       "    "
      ],
      "text/plain": [
       "<IPython.core.display.Javascript object>"
      ]
     },
     "metadata": {},
     "output_type": "display_data"
    },
    {
     "data": {
      "application/javascript": [
       "\n",
       "        if (window._pyforest_update_imports_cell) { window._pyforest_update_imports_cell('import pandas as pd\\nimport numpy as np'); }\n",
       "    "
      ],
      "text/plain": [
       "<IPython.core.display.Javascript object>"
      ]
     },
     "metadata": {},
     "output_type": "display_data"
    },
    {
     "data": {
      "application/javascript": [
       "\n",
       "        if (window._pyforest_update_imports_cell) { window._pyforest_update_imports_cell('import pandas as pd\\nimport numpy as np'); }\n",
       "    "
      ],
      "text/plain": [
       "<IPython.core.display.Javascript object>"
      ]
     },
     "metadata": {},
     "output_type": "display_data"
    },
    {
     "data": {
      "application/javascript": [
       "\n",
       "        if (window._pyforest_update_imports_cell) { window._pyforest_update_imports_cell('import pandas as pd\\nimport numpy as np'); }\n",
       "    "
      ],
      "text/plain": [
       "<IPython.core.display.Javascript object>"
      ]
     },
     "metadata": {},
     "output_type": "display_data"
    },
    {
     "data": {
      "application/javascript": [
       "\n",
       "        if (window._pyforest_update_imports_cell) { window._pyforest_update_imports_cell('import pandas as pd\\nimport numpy as np'); }\n",
       "    "
      ],
      "text/plain": [
       "<IPython.core.display.Javascript object>"
      ]
     },
     "metadata": {},
     "output_type": "display_data"
    },
    {
     "name": "stdout",
     "output_type": "stream",
     "text": [
      "                                                address  \\\n",
      "3     1st Floor, Annakuteera, 3rd Stage, Banashankar...   \n",
      "162   Sri Balaji Complex, 339/3, Kuvempu Nagar, Next...   \n",
      "6189  267 Near 18Th Cross Signal, Sampige Road, Mall...   \n",
      "66    727, 23rd Cross, KR Road, 2nd Stage, Banashank...   \n",
      "4063                13, Near Christ College, Hosur Road   \n",
      "...                                                 ...   \n",
      "7307           Near Phoenix Mall, Whitefield, Bangalore   \n",
      "2032                      14, St. Marks Road, Bangalore   \n",
      "1377  74/8, Ground Floor, GMR Complex, Outer Ring Ro...   \n",
      "6945  Beside Leela Palace, Kodihalli, Old Airport Ro...   \n",
      "4923         270, 100 Feet Road, Indiranagar, Bangalore   \n",
      "\n",
      "                       name online_order book_table  rate votes  \\\n",
      "3     Addhuri Udupi Bhojana           No         No   3.7    88   \n",
      "162             Matru Sagar          Yes         No   3.7    31   \n",
      "6189     Dhanalakshmi Grand          Yes         No   4.0    71   \n",
      "66             Upahar Sagar           No         No   3.8    39   \n",
      "4063        Sri Vishnupriya           No         No   3.0    67   \n",
      "...                     ...          ...        ...   ...   ...   \n",
      "7307         Sri Udupi Park          Yes         No   3.9   160   \n",
      "2032           Anna Kuteera          Yes         No   3.8    62   \n",
      "1377         Udupi Aatithya          Yes         No   4.0    77   \n",
      "6945         Sri Udupi Park           No         No   4.0   141   \n",
      "4923         Sri Udupi Park          Yes         No   4.2   770   \n",
      "\n",
      "              location      rest_type  \\\n",
      "3         Banashankari    Quick Bites   \n",
      "162        Mysore Road    Quick Bites   \n",
      "6189      Malleshwaram    Quick Bites   \n",
      "66        Banashankari    Quick Bites   \n",
      "4063               BTM    Quick Bites   \n",
      "...                ...            ...   \n",
      "7307        Whitefield  Casual Dining   \n",
      "2032    St. Marks Road  Casual Dining   \n",
      "1377         Bellandur    Quick Bites   \n",
      "6945  Old Airport Road    Quick Bites   \n",
      "4923       Indiranagar    Quick Bites   \n",
      "\n",
      "                                             dish_liked  \\\n",
      "3                                                [dosa]   \n",
      "162                      [dosa, dosa, dosa, dosa, dosa]   \n",
      "6189                                             [dosa]   \n",
      "66                                               [dosa]   \n",
      "4063                                       [dosa, dosa]   \n",
      "...                                                 ...   \n",
      "7307                          [dosa, coffee, curd rice]   \n",
      "2032                 [paneer tikka, coffee, vada, idli]   \n",
      "1377                      [coffee, vada, biryani, dosa]   \n",
      "6945  [coffee, dosa, paneer butter masala, tea, dosa...   \n",
      "4923  [idli, tea, dosa, coffee, pav bhaji, kesari ba...   \n",
      "\n",
      "                                              cuisines  \\\n",
      "3                         [south indian, north indian]   \n",
      "162                       [south indian, north indian]   \n",
      "6189                      [south indian, north indian]   \n",
      "66               [south indian, chinese, north indian]   \n",
      "4063             [south indian, north indian, chinese]   \n",
      "...                                                ...   \n",
      "7307  [south indian, north indian, chinese, beverages]   \n",
      "2032             [south indian, north indian, chinese]   \n",
      "1377             [south indian, north indian, chinese]   \n",
      "6945  [south indian, north indian, chinese, beverages]   \n",
      "4923  [south indian, north indian, chinese, beverages]   \n",
      "\n",
      "     approx_cost(for two people)  \\\n",
      "3                            300   \n",
      "162                          300   \n",
      "6189                         300   \n",
      "66                           350   \n",
      "4063                         300   \n",
      "...                          ...   \n",
      "7307                         300   \n",
      "2032                         400   \n",
      "1377                         300   \n",
      "6945                         300   \n",
      "4923                         300   \n",
      "\n",
      "                                       list_review_rate  \\\n",
      "3     [4.0, 2.0, 4.0, 2.0, 4.0, 5.0, 4.0, 5.0, 3.0, ...   \n",
      "162   [5.0, 5.0, 5.0, 1.0, 1.0, 4.0, 3.0, 5.0, 3.0, ...   \n",
      "6189                                              [4.0]   \n",
      "66    [2.0, 4.0, 4.0, 5.0, 4.0, 4.0, 1.0, 4.0, 4.0, ...   \n",
      "4063  [2.0, 1.0, 4.0, 3.0, 2.0, 5.0, 2.0, 1.0, 3.0, ...   \n",
      "...                                                 ...   \n",
      "7307           [4.0, 5.0, 4.0, 5.0, 3.0, 3.0, 3.0, 4.0]   \n",
      "2032                     [4.0, 3.0, 4.0, 4.0, 4.0, 4.0]   \n",
      "1377                [4.0, 4.0, 3.0, 5.0, 5.0, 5.0, 4.0]   \n",
      "6945                [4.0, 4.0, 5.0, 4.0, 4.0, 4.0, 3.0]   \n",
      "4923  [5.0, 3.0, 5.0, 4.0, 4.0, 4.0, 4.0, 5.0, 4.0, ...   \n",
      "\n",
      "                                                reviews no_of_cuisines  \\\n",
      "3     great food proper karnataka style full meals t...              2   \n",
      "162   good place dinner family decent option mysore ...              2   \n",
      "6189  ordered masala dosha badam shake taste good fo...              2   \n",
      "66    hiwe masala puri sev puri mix chats restaurant...              3   \n",
      "4063  average place average ambiance food good bad w...              3   \n",
      "...                                                 ...            ...   \n",
      "7307  food ambiance service cost good place visit fa...              4   \n",
      "2032  scrumptious scrumptious chutney like order pla...              3   \n",
      "1377  udupi aatithya bellandur bangalorelocated oppo...              3   \n",
      "6945  simple dining place staff happy serve people n...              4   \n",
      "4923  amazing place authentic south indian specials ...              4   \n",
      "\n",
      "                                         dish_liked_org  final_rate  \\\n",
      "3                                                [dosa]         3.6   \n",
      "162                      [dosa, dosa, dosa, dosa, dosa]         3.6   \n",
      "6189                                             [dosa]         4.0   \n",
      "66                                               [dosa]         3.6   \n",
      "4063                                       [dosa, dosa]         2.9   \n",
      "...                                                 ...         ...   \n",
      "7307                          [dosa, coffee, curd rice]         3.9   \n",
      "2032                 [paneer tikka, coffee, vada, idli]         3.8   \n",
      "1377                      [coffee, vada, biryani, dosa]         4.1   \n",
      "6945  [coffee, dosa, paneer butter masala, tea, dosa...         4.0   \n",
      "4923  [idli, tea, dosa, coffee, pav bhaji, kesari ba...         4.2   \n",
      "\n",
      "                     lat               long  \n",
      "3     12.965283249999999        77.59445195  \n",
      "162           12.9569278         77.5497675  \n",
      "6189          13.0027353         77.5703253  \n",
      "66    12.965283249999999        77.59445195  \n",
      "4063  12.911275849999999  77.60456543431182  \n",
      "...                  ...                ...  \n",
      "7307          12.9696365         77.7497448  \n",
      "2032          12.9704318         77.6007502  \n",
      "1377         12.93577245  77.66676103753434  \n",
      "6945          12.9592241         77.6615183  \n",
      "4923          12.9732913         77.6404672  \n",
      "\n",
      "[115 rows x 18 columns]\n"
     ]
    },
    {
     "data": {
      "text/html": [
       "<div>\n",
       "<style scoped>\n",
       "    .dataframe tbody tr th:only-of-type {\n",
       "        vertical-align: middle;\n",
       "    }\n",
       "\n",
       "    .dataframe tbody tr th {\n",
       "        vertical-align: top;\n",
       "    }\n",
       "\n",
       "    .dataframe thead th {\n",
       "        text-align: right;\n",
       "    }\n",
       "</style>\n",
       "<table border=\"1\" class=\"dataframe\">\n",
       "  <thead>\n",
       "    <tr style=\"text-align: right;\">\n",
       "      <th></th>\n",
       "      <th>address</th>\n",
       "      <th>name</th>\n",
       "      <th>online_order</th>\n",
       "      <th>book_table</th>\n",
       "      <th>rate</th>\n",
       "      <th>votes</th>\n",
       "      <th>location</th>\n",
       "      <th>rest_type</th>\n",
       "      <th>dish_liked</th>\n",
       "      <th>cuisines</th>\n",
       "      <th>approx_cost(for two people)</th>\n",
       "      <th>list_review_rate</th>\n",
       "      <th>reviews</th>\n",
       "      <th>no_of_cuisines</th>\n",
       "      <th>dish_liked_org</th>\n",
       "      <th>final_rate</th>\n",
       "      <th>lat</th>\n",
       "      <th>long</th>\n",
       "      <th>man_dist</th>\n",
       "      <th>loc_dist_km</th>\n",
       "    </tr>\n",
       "  </thead>\n",
       "  <tbody>\n",
       "    <tr>\n",
       "      <th>3863</th>\n",
       "      <td>16th Main Road, BTM, Bangalore</td>\n",
       "      <td>So-Fat's Dosas</td>\n",
       "      <td>No</td>\n",
       "      <td>No</td>\n",
       "      <td>3.8</td>\n",
       "      <td>43</td>\n",
       "      <td>BTM</td>\n",
       "      <td>Quick Bites</td>\n",
       "      <td>[dosa]</td>\n",
       "      <td>[south indian]</td>\n",
       "      <td>200</td>\n",
       "      <td>[3.0, 4.0, 4.0, 5.0, 3.0, 4.0, 5.0, 5.0, 4.0, ...</td>\n",
       "      <td>amazing collection dosas wonder see much varie...</td>\n",
       "      <td>1</td>\n",
       "      <td>[dosa]</td>\n",
       "      <td>4.6</td>\n",
       "      <td>12.911275849999999</td>\n",
       "      <td>77.60456543431182</td>\n",
       "      <td>0.040140</td>\n",
       "      <td>3.124718</td>\n",
       "    </tr>\n",
       "    <tr>\n",
       "      <th>2516</th>\n",
       "      <td>Near Ulsoor Gate Police Station, Cubbonpet, Ci...</td>\n",
       "      <td>Chikkanna Tiffin Room</td>\n",
       "      <td>No</td>\n",
       "      <td>No</td>\n",
       "      <td>4.5</td>\n",
       "      <td>203</td>\n",
       "      <td>City Market</td>\n",
       "      <td>Quick Bites</td>\n",
       "      <td>[dosa, dosa, dosa, dosa, idli, potato masala, ...</td>\n",
       "      <td>[south indian]</td>\n",
       "      <td>150</td>\n",
       "      <td>[4.0, 4.0, 5.0, 4.0, 5.0, 5.0, 4.0, 4.0]</td>\n",
       "      <td>awesome khali masala dose also fairly wl known...</td>\n",
       "      <td>1</td>\n",
       "      <td>[dosa, dosa, dosa, dosa, idli, potato masala, ...</td>\n",
       "      <td>4.5</td>\n",
       "      <td>12.965717999999999</td>\n",
       "      <td>77.5762705372058</td>\n",
       "      <td>0.042597</td>\n",
       "      <td>4.106966</td>\n",
       "    </tr>\n",
       "    <tr>\n",
       "      <th>1281</th>\n",
       "      <td>6, 9th Cross, 9th Main, 2nd Block, Jayanagar, ...</td>\n",
       "      <td>Bengaluru Cafe</td>\n",
       "      <td>No</td>\n",
       "      <td>No</td>\n",
       "      <td>4.4</td>\n",
       "      <td>134</td>\n",
       "      <td>Jayanagar</td>\n",
       "      <td>Quick Bites</td>\n",
       "      <td>[kesari bath, dosa, kharabath, tea, coffee, id...</td>\n",
       "      <td>[south indian]</td>\n",
       "      <td>150</td>\n",
       "      <td>[3.0, 4.0, 4.0, 5.0, 5.0, 4.0, 4.0, 4.0, 4.0, ...</td>\n",
       "      <td>well cafe eye catching jayanagar food good opt...</td>\n",
       "      <td>1</td>\n",
       "      <td>[kesari bath, dosa, kharabath, tea, coffee, id...</td>\n",
       "      <td>4.4</td>\n",
       "      <td>12.9292731</td>\n",
       "      <td>77.5824229</td>\n",
       "      <td>0.000000</td>\n",
       "      <td>0.000000</td>\n",
       "    </tr>\n",
       "    <tr>\n",
       "      <th>378</th>\n",
       "      <td>32, Gandhi Bazaar, Near Gandhi Bazaar Circle, ...</td>\n",
       "      <td>Vidyarthi Bhavan</td>\n",
       "      <td>No</td>\n",
       "      <td>No</td>\n",
       "      <td>4.4</td>\n",
       "      <td>4460</td>\n",
       "      <td>Basavanagudi</td>\n",
       "      <td>Quick Bites</td>\n",
       "      <td>[filter kaapi, coffee, khara bhath, maddur vad...</td>\n",
       "      <td>[south indian]</td>\n",
       "      <td>150</td>\n",
       "      <td>[5.0, 5.0, 4.0, 5.0, 4.0, 5.0, 4.0, 5.0, 4.0, ...</td>\n",
       "      <td>amazing place amazing food ordered famous masa...</td>\n",
       "      <td>1</td>\n",
       "      <td>[filter kaapi, coffee, khara bhath, maddur vad...</td>\n",
       "      <td>4.4</td>\n",
       "      <td>12.9417261</td>\n",
       "      <td>77.5755021</td>\n",
       "      <td>0.019374</td>\n",
       "      <td>1.574791</td>\n",
       "    </tr>\n",
       "    <tr>\n",
       "      <th>1207</th>\n",
       "      <td>118,13th Main, 29th Cross, 4th Block, Jayanaga...</td>\n",
       "      <td>Davangere Benna Dose Hotel</td>\n",
       "      <td>Yes</td>\n",
       "      <td>No</td>\n",
       "      <td>4.1</td>\n",
       "      <td>90</td>\n",
       "      <td>Jayanagar</td>\n",
       "      <td>Quick Bites</td>\n",
       "      <td>[dosa, idli, coffee]</td>\n",
       "      <td>[south indian]</td>\n",
       "      <td>100</td>\n",
       "      <td>[5.0, 4.0, 5.0, 4.0, 5.0, 5.0, 4.0]</td>\n",
       "      <td>favorite spot benne dosa loved crispy aromatic...</td>\n",
       "      <td>1</td>\n",
       "      <td>[dosa, idli, coffee]</td>\n",
       "      <td>4.3</td>\n",
       "      <td>12.9292731</td>\n",
       "      <td>77.5824229</td>\n",
       "      <td>0.000000</td>\n",
       "      <td>0.000000</td>\n",
       "    </tr>\n",
       "    <tr>\n",
       "      <th>64</th>\n",
       "      <td>49/1, Subbaraoshetty Road, Netkallappa Circle,...</td>\n",
       "      <td>Sri Guru Kottureshwara Davangere Benne Dosa</td>\n",
       "      <td>Yes</td>\n",
       "      <td>No</td>\n",
       "      <td>4.1</td>\n",
       "      <td>558</td>\n",
       "      <td>Basavanagudi</td>\n",
       "      <td>Quick Bites</td>\n",
       "      <td>[dosa, mirchi bajji, coffee, poha, tea, dosa, ...</td>\n",
       "      <td>[south indian]</td>\n",
       "      <td>150</td>\n",
       "      <td>[4.0, 4.0, 4.0, 5.0, 4.0, 3.0, 3.0, 4.0, 5.0, ...</td>\n",
       "      <td>goto benne dosa placethe paddu must trythe chu...</td>\n",
       "      <td>1</td>\n",
       "      <td>[dosa, mirchi bajji, coffee, poha, tea, dosa, ...</td>\n",
       "      <td>4.0</td>\n",
       "      <td>12.9417261</td>\n",
       "      <td>77.5755021</td>\n",
       "      <td>0.019374</td>\n",
       "      <td>1.574791</td>\n",
       "    </tr>\n",
       "    <tr>\n",
       "      <th>1273</th>\n",
       "      <td>Diagonal Road, Sajjan Rao Circle, VV Puram, Ba...</td>\n",
       "      <td>Hotel Janatha</td>\n",
       "      <td>No</td>\n",
       "      <td>No</td>\n",
       "      <td>4.1</td>\n",
       "      <td>52</td>\n",
       "      <td>Basavanagudi</td>\n",
       "      <td>Quick Bites</td>\n",
       "      <td>[dosa, dosa, dosa, vada, coffee, dosa, kesari ...</td>\n",
       "      <td>[south indian]</td>\n",
       "      <td>150</td>\n",
       "      <td>[5.0, 4.0, 5.0, 4.0, 4.0, 4.0, 3.0, 4.0, 3.0, ...</td>\n",
       "      <td>love first visit easily visible main road plac...</td>\n",
       "      <td>1</td>\n",
       "      <td>[dosa, dosa, dosa, vada, coffee, dosa, kesari ...</td>\n",
       "      <td>4.0</td>\n",
       "      <td>12.9417261</td>\n",
       "      <td>77.5755021</td>\n",
       "      <td>0.019374</td>\n",
       "      <td>1.574791</td>\n",
       "    </tr>\n",
       "    <tr>\n",
       "      <th>4118</th>\n",
       "      <td>31/1, 22nd Main, 2nd Phase, JP Nagar, Bangalore</td>\n",
       "      <td>Nammura Upahara</td>\n",
       "      <td>No</td>\n",
       "      <td>No</td>\n",
       "      <td>3.8</td>\n",
       "      <td>40</td>\n",
       "      <td>JP Nagar</td>\n",
       "      <td>Quick Bites</td>\n",
       "      <td>[dosa, tea, vada, idli, coffee]</td>\n",
       "      <td>[south indian]</td>\n",
       "      <td>100</td>\n",
       "      <td>[4.0]</td>\n",
       "      <td>place serves good quality south indian food un...</td>\n",
       "      <td>1</td>\n",
       "      <td>[dosa, tea, vada, idli, coffee]</td>\n",
       "      <td>3.9</td>\n",
       "      <td>12.9072515</td>\n",
       "      <td>77.5782713</td>\n",
       "      <td>0.026173</td>\n",
       "      <td>2.489687</td>\n",
       "    </tr>\n",
       "    <tr>\n",
       "      <th>125</th>\n",
       "      <td>19, V.V.puram National School Road, Basavanagu...</td>\n",
       "      <td>Mulabagilu Dosa</td>\n",
       "      <td>Yes</td>\n",
       "      <td>No</td>\n",
       "      <td>3.6</td>\n",
       "      <td>11</td>\n",
       "      <td>Basavanagudi</td>\n",
       "      <td>Quick Bites</td>\n",
       "      <td>[dosa, dosa, dosa, dosa, dosa]</td>\n",
       "      <td>[south indian]</td>\n",
       "      <td>100</td>\n",
       "      <td>[4.0]</td>\n",
       "      <td>mulubagilu dose crispy hot masala dosa famous ...</td>\n",
       "      <td>1</td>\n",
       "      <td>[dosa, dosa, dosa, dosa, dosa]</td>\n",
       "      <td>3.8</td>\n",
       "      <td>12.9417261</td>\n",
       "      <td>77.5755021</td>\n",
       "      <td>0.019374</td>\n",
       "      <td>1.574791</td>\n",
       "    </tr>\n",
       "    <tr>\n",
       "      <th>298</th>\n",
       "      <td>162 , Kathreguppe Cross Road, 3rd Stage, Banas...</td>\n",
       "      <td>Janahaar</td>\n",
       "      <td>Yes</td>\n",
       "      <td>No</td>\n",
       "      <td>3.8</td>\n",
       "      <td>70</td>\n",
       "      <td>Banashankari</td>\n",
       "      <td>Quick Bites</td>\n",
       "      <td>[dosa, idli, coffee, dosa]</td>\n",
       "      <td>[south indian]</td>\n",
       "      <td>100</td>\n",
       "      <td>[5.0, 5.0, 5.0, 5.0, 3.0, 3.0, 4.0, 3.0, 3.0, ...</td>\n",
       "      <td>god food one happy customer less menu high tas...</td>\n",
       "      <td>1</td>\n",
       "      <td>[dosa, idli, coffee, dosa]</td>\n",
       "      <td>3.7</td>\n",
       "      <td>12.965283249999999</td>\n",
       "      <td>77.59445195</td>\n",
       "      <td>0.048039</td>\n",
       "      <td>4.210993</td>\n",
       "    </tr>\n",
       "    <tr>\n",
       "      <th>78</th>\n",
       "      <td>295/A, 7th Main road, 7th Block, 3rd Stage, Ba...</td>\n",
       "      <td>Mane Thindi</td>\n",
       "      <td>No</td>\n",
       "      <td>No</td>\n",
       "      <td>3.7</td>\n",
       "      <td>130</td>\n",
       "      <td>Banashankari</td>\n",
       "      <td>Quick Bites</td>\n",
       "      <td>[coffee, tea, kesari bath, dosa, vada, idli, d...</td>\n",
       "      <td>[south indian]</td>\n",
       "      <td>200</td>\n",
       "      <td>[3.0, 4.0, 2.0, 3.0, 3.0, 3.0, 3.0, 4.0, 2.0, ...</td>\n",
       "      <td>ambience might greatest suite dosas next time ...</td>\n",
       "      <td>1</td>\n",
       "      <td>[coffee, tea, kesari bath, dosa, vada, idli, d...</td>\n",
       "      <td>3.6</td>\n",
       "      <td>12.965283249999999</td>\n",
       "      <td>77.59445195</td>\n",
       "      <td>0.048039</td>\n",
       "      <td>4.210993</td>\n",
       "    </tr>\n",
       "    <tr>\n",
       "      <th>69</th>\n",
       "      <td>38, 22nd Main, 22nd Cross, Opposite BDA, 2nd S...</td>\n",
       "      <td>Krishna Sagar</td>\n",
       "      <td>No</td>\n",
       "      <td>No</td>\n",
       "      <td>3.5</td>\n",
       "      <td>31</td>\n",
       "      <td>Banashankari</td>\n",
       "      <td>Quick Bites</td>\n",
       "      <td>[dosa]</td>\n",
       "      <td>[north indian]</td>\n",
       "      <td>200</td>\n",
       "      <td>[1.0, 3.0, 1.0, 3.0, 3.0, 3.0, 5.0, 3.0, 3.0]</td>\n",
       "      <td>worst experience krishna sagar ordered panner ...</td>\n",
       "      <td>1</td>\n",
       "      <td>[dosa]</td>\n",
       "      <td>3.1</td>\n",
       "      <td>12.965283249999999</td>\n",
       "      <td>77.59445195</td>\n",
       "      <td>0.048039</td>\n",
       "      <td>4.210993</td>\n",
       "    </tr>\n",
       "  </tbody>\n",
       "</table>\n",
       "</div>"
      ],
      "text/plain": [
       "                                                address  \\\n",
       "3863                     16th Main Road, BTM, Bangalore   \n",
       "2516  Near Ulsoor Gate Police Station, Cubbonpet, Ci...   \n",
       "1281  6, 9th Cross, 9th Main, 2nd Block, Jayanagar, ...   \n",
       "378   32, Gandhi Bazaar, Near Gandhi Bazaar Circle, ...   \n",
       "1207  118,13th Main, 29th Cross, 4th Block, Jayanaga...   \n",
       "64    49/1, Subbaraoshetty Road, Netkallappa Circle,...   \n",
       "1273  Diagonal Road, Sajjan Rao Circle, VV Puram, Ba...   \n",
       "4118    31/1, 22nd Main, 2nd Phase, JP Nagar, Bangalore   \n",
       "125   19, V.V.puram National School Road, Basavanagu...   \n",
       "298   162 , Kathreguppe Cross Road, 3rd Stage, Banas...   \n",
       "78    295/A, 7th Main road, 7th Block, 3rd Stage, Ba...   \n",
       "69    38, 22nd Main, 22nd Cross, Opposite BDA, 2nd S...   \n",
       "\n",
       "                                             name online_order book_table  \\\n",
       "3863                               So-Fat's Dosas           No         No   \n",
       "2516                        Chikkanna Tiffin Room           No         No   \n",
       "1281                               Bengaluru Cafe           No         No   \n",
       "378                              Vidyarthi Bhavan           No         No   \n",
       "1207                   Davangere Benna Dose Hotel          Yes         No   \n",
       "64    Sri Guru Kottureshwara Davangere Benne Dosa          Yes         No   \n",
       "1273                                Hotel Janatha           No         No   \n",
       "4118                              Nammura Upahara           No         No   \n",
       "125                               Mulabagilu Dosa          Yes         No   \n",
       "298                                      Janahaar          Yes         No   \n",
       "78                                    Mane Thindi           No         No   \n",
       "69                                  Krishna Sagar           No         No   \n",
       "\n",
       "      rate votes      location    rest_type  \\\n",
       "3863   3.8    43           BTM  Quick Bites   \n",
       "2516   4.5   203   City Market  Quick Bites   \n",
       "1281   4.4   134     Jayanagar  Quick Bites   \n",
       "378    4.4  4460  Basavanagudi  Quick Bites   \n",
       "1207   4.1    90     Jayanagar  Quick Bites   \n",
       "64     4.1   558  Basavanagudi  Quick Bites   \n",
       "1273   4.1    52  Basavanagudi  Quick Bites   \n",
       "4118   3.8    40      JP Nagar  Quick Bites   \n",
       "125    3.6    11  Basavanagudi  Quick Bites   \n",
       "298    3.8    70  Banashankari  Quick Bites   \n",
       "78     3.7   130  Banashankari  Quick Bites   \n",
       "69     3.5    31  Banashankari  Quick Bites   \n",
       "\n",
       "                                             dish_liked        cuisines  \\\n",
       "3863                                             [dosa]  [south indian]   \n",
       "2516  [dosa, dosa, dosa, dosa, idli, potato masala, ...  [south indian]   \n",
       "1281  [kesari bath, dosa, kharabath, tea, coffee, id...  [south indian]   \n",
       "378   [filter kaapi, coffee, khara bhath, maddur vad...  [south indian]   \n",
       "1207                               [dosa, idli, coffee]  [south indian]   \n",
       "64    [dosa, mirchi bajji, coffee, poha, tea, dosa, ...  [south indian]   \n",
       "1273  [dosa, dosa, dosa, vada, coffee, dosa, kesari ...  [south indian]   \n",
       "4118                    [dosa, tea, vada, idli, coffee]  [south indian]   \n",
       "125                      [dosa, dosa, dosa, dosa, dosa]  [south indian]   \n",
       "298                          [dosa, idli, coffee, dosa]  [south indian]   \n",
       "78    [coffee, tea, kesari bath, dosa, vada, idli, d...  [south indian]   \n",
       "69                                               [dosa]  [north indian]   \n",
       "\n",
       "     approx_cost(for two people)  \\\n",
       "3863                         200   \n",
       "2516                         150   \n",
       "1281                         150   \n",
       "378                          150   \n",
       "1207                         100   \n",
       "64                           150   \n",
       "1273                         150   \n",
       "4118                         100   \n",
       "125                          100   \n",
       "298                          100   \n",
       "78                           200   \n",
       "69                           200   \n",
       "\n",
       "                                       list_review_rate  \\\n",
       "3863  [3.0, 4.0, 4.0, 5.0, 3.0, 4.0, 5.0, 5.0, 4.0, ...   \n",
       "2516           [4.0, 4.0, 5.0, 4.0, 5.0, 5.0, 4.0, 4.0]   \n",
       "1281  [3.0, 4.0, 4.0, 5.0, 5.0, 4.0, 4.0, 4.0, 4.0, ...   \n",
       "378   [5.0, 5.0, 4.0, 5.0, 4.0, 5.0, 4.0, 5.0, 4.0, ...   \n",
       "1207                [5.0, 4.0, 5.0, 4.0, 5.0, 5.0, 4.0]   \n",
       "64    [4.0, 4.0, 4.0, 5.0, 4.0, 3.0, 3.0, 4.0, 5.0, ...   \n",
       "1273  [5.0, 4.0, 5.0, 4.0, 4.0, 4.0, 3.0, 4.0, 3.0, ...   \n",
       "4118                                              [4.0]   \n",
       "125                                               [4.0]   \n",
       "298   [5.0, 5.0, 5.0, 5.0, 3.0, 3.0, 4.0, 3.0, 3.0, ...   \n",
       "78    [3.0, 4.0, 2.0, 3.0, 3.0, 3.0, 3.0, 4.0, 2.0, ...   \n",
       "69        [1.0, 3.0, 1.0, 3.0, 3.0, 3.0, 5.0, 3.0, 3.0]   \n",
       "\n",
       "                                                reviews no_of_cuisines  \\\n",
       "3863  amazing collection dosas wonder see much varie...              1   \n",
       "2516  awesome khali masala dose also fairly wl known...              1   \n",
       "1281  well cafe eye catching jayanagar food good opt...              1   \n",
       "378   amazing place amazing food ordered famous masa...              1   \n",
       "1207  favorite spot benne dosa loved crispy aromatic...              1   \n",
       "64    goto benne dosa placethe paddu must trythe chu...              1   \n",
       "1273  love first visit easily visible main road plac...              1   \n",
       "4118  place serves good quality south indian food un...              1   \n",
       "125   mulubagilu dose crispy hot masala dosa famous ...              1   \n",
       "298   god food one happy customer less menu high tas...              1   \n",
       "78    ambience might greatest suite dosas next time ...              1   \n",
       "69    worst experience krishna sagar ordered panner ...              1   \n",
       "\n",
       "                                         dish_liked_org  final_rate  \\\n",
       "3863                                             [dosa]         4.6   \n",
       "2516  [dosa, dosa, dosa, dosa, idli, potato masala, ...         4.5   \n",
       "1281  [kesari bath, dosa, kharabath, tea, coffee, id...         4.4   \n",
       "378   [filter kaapi, coffee, khara bhath, maddur vad...         4.4   \n",
       "1207                               [dosa, idli, coffee]         4.3   \n",
       "64    [dosa, mirchi bajji, coffee, poha, tea, dosa, ...         4.0   \n",
       "1273  [dosa, dosa, dosa, vada, coffee, dosa, kesari ...         4.0   \n",
       "4118                    [dosa, tea, vada, idli, coffee]         3.9   \n",
       "125                      [dosa, dosa, dosa, dosa, dosa]         3.8   \n",
       "298                          [dosa, idli, coffee, dosa]         3.7   \n",
       "78    [coffee, tea, kesari bath, dosa, vada, idli, d...         3.6   \n",
       "69                                               [dosa]         3.1   \n",
       "\n",
       "                     lat               long  man_dist  loc_dist_km  \n",
       "3863  12.911275849999999  77.60456543431182  0.040140     3.124718  \n",
       "2516  12.965717999999999   77.5762705372058  0.042597     4.106966  \n",
       "1281          12.9292731         77.5824229  0.000000     0.000000  \n",
       "378           12.9417261         77.5755021  0.019374     1.574791  \n",
       "1207          12.9292731         77.5824229  0.000000     0.000000  \n",
       "64            12.9417261         77.5755021  0.019374     1.574791  \n",
       "1273          12.9417261         77.5755021  0.019374     1.574791  \n",
       "4118          12.9072515         77.5782713  0.026173     2.489687  \n",
       "125           12.9417261         77.5755021  0.019374     1.574791  \n",
       "298   12.965283249999999        77.59445195  0.048039     4.210993  \n",
       "78    12.965283249999999        77.59445195  0.048039     4.210993  \n",
       "69    12.965283249999999        77.59445195  0.048039     4.210993  "
      ]
     },
     "execution_count": 13,
     "metadata": {},
     "output_type": "execute_result"
    }
   ],
   "source": [
    "import datetime as dt\n",
    "user=pd.read_csv(\"user1_final.csv\")\n",
    "user[\"Time\"]=pd.to_datetime((user['Time']))\n",
    "t=dt.time(10,30)\n",
    "lat=12.9292731\n",
    "long=77.5824229\n",
    "final_rec,timing = rec_user(user,t,lat,long,df)\n",
    "final_rec"
   ]
  },
  {
   "cell_type": "code",
   "execution_count": null,
   "metadata": {},
   "outputs": [],
   "source": []
  },
  {
   "cell_type": "code",
   "execution_count": null,
   "metadata": {},
   "outputs": [],
   "source": [
    "df['rate'].value_counts()"
   ]
  },
  {
   "cell_type": "code",
   "execution_count": 27,
   "metadata": {},
   "outputs": [
    {
     "data": {
      "text/html": [
       "<div>\n",
       "<style scoped>\n",
       "    .dataframe tbody tr th:only-of-type {\n",
       "        vertical-align: middle;\n",
       "    }\n",
       "\n",
       "    .dataframe tbody tr th {\n",
       "        vertical-align: top;\n",
       "    }\n",
       "\n",
       "    .dataframe thead th {\n",
       "        text-align: right;\n",
       "    }\n",
       "</style>\n",
       "<table border=\"1\" class=\"dataframe\">\n",
       "  <thead>\n",
       "    <tr style=\"text-align: right;\">\n",
       "      <th></th>\n",
       "      <th>address</th>\n",
       "      <th>name</th>\n",
       "      <th>online_order</th>\n",
       "      <th>book_table</th>\n",
       "      <th>rate</th>\n",
       "      <th>votes</th>\n",
       "      <th>location</th>\n",
       "      <th>rest_type</th>\n",
       "      <th>dish_liked</th>\n",
       "      <th>cuisines</th>\n",
       "      <th>approx_cost(for two people)</th>\n",
       "      <th>list_review_rate</th>\n",
       "      <th>reviews</th>\n",
       "      <th>no_of_cuisines</th>\n",
       "      <th>dish_liked_org</th>\n",
       "      <th>final_rate</th>\n",
       "      <th>lat</th>\n",
       "      <th>long</th>\n",
       "      <th>man_dist</th>\n",
       "      <th>loc_dist_km</th>\n",
       "    </tr>\n",
       "  </thead>\n",
       "  <tbody>\n",
       "    <tr>\n",
       "      <th>1281</th>\n",
       "      <td>6, 9th Cross, 9th Main, 2nd Block, Jayanagar, ...</td>\n",
       "      <td>Bengaluru Cafe</td>\n",
       "      <td>No</td>\n",
       "      <td>No</td>\n",
       "      <td>4.4</td>\n",
       "      <td>134</td>\n",
       "      <td>Jayanagar</td>\n",
       "      <td>Quick Bites</td>\n",
       "      <td>[kesari bath, dosa, kharabath, tea, coffee, id...</td>\n",
       "      <td>[south indian]</td>\n",
       "      <td>150</td>\n",
       "      <td>[3.0, 4.0, 4.0, 5.0, 5.0, 4.0, 4.0, 4.0, 4.0, ...</td>\n",
       "      <td>well cafe eye catching jayanagar food good opt...</td>\n",
       "      <td>1</td>\n",
       "      <td>[kesari bath, dosa, kharabath, tea, coffee, id...</td>\n",
       "      <td>4.4</td>\n",
       "      <td>12.9292731</td>\n",
       "      <td>77.5824229</td>\n",
       "      <td>0.000000</td>\n",
       "      <td>0.000000</td>\n",
       "    </tr>\n",
       "    <tr>\n",
       "      <th>1083</th>\n",
       "      <td>764/44, 37th Cross 18th Main, 4th T Block, Jay...</td>\n",
       "      <td>Mysuru Coffee Thindi</td>\n",
       "      <td>Yes</td>\n",
       "      <td>No</td>\n",
       "      <td>4.1</td>\n",
       "      <td>296</td>\n",
       "      <td>Jayanagar</td>\n",
       "      <td>Quick Bites</td>\n",
       "      <td>[coffee, dosa, tea, badam milk, vada, idli, dosa]</td>\n",
       "      <td>[south indian, beverages]</td>\n",
       "      <td>200</td>\n",
       "      <td>[5.0, 3.0, 4.0, 4.0]</td>\n",
       "      <td>one best breakfast n tiffin places idli wadas ...</td>\n",
       "      <td>2</td>\n",
       "      <td>[coffee, dosa, tea, badam milk, vada, idli, dosa]</td>\n",
       "      <td>4.1</td>\n",
       "      <td>12.9292731</td>\n",
       "      <td>77.5824229</td>\n",
       "      <td>0.000000</td>\n",
       "      <td>0.000000</td>\n",
       "    </tr>\n",
       "    <tr>\n",
       "      <th>1119</th>\n",
       "      <td>36, 12th Main, 27th Cross , 4th Block, Jayanag...</td>\n",
       "      <td>Vakulaa Veg Restaurant</td>\n",
       "      <td>Yes</td>\n",
       "      <td>No</td>\n",
       "      <td>3.9</td>\n",
       "      <td>49</td>\n",
       "      <td>Jayanagar</td>\n",
       "      <td>Quick Bites</td>\n",
       "      <td>[dosa, coffee, pongal, tea, bonda]</td>\n",
       "      <td>[south indian, north indian]</td>\n",
       "      <td>200</td>\n",
       "      <td>[4.0, 4.0, 5.0]</td>\n",
       "      <td>best place south indian dishes pocket friendly...</td>\n",
       "      <td>2</td>\n",
       "      <td>[dosa, coffee, pongal, tea, bonda]</td>\n",
       "      <td>4.1</td>\n",
       "      <td>12.9292731</td>\n",
       "      <td>77.5824229</td>\n",
       "      <td>0.000000</td>\n",
       "      <td>0.000000</td>\n",
       "    </tr>\n",
       "    <tr>\n",
       "      <th>64</th>\n",
       "      <td>49/1, Subbaraoshetty Road, Netkallappa Circle,...</td>\n",
       "      <td>Sri Guru Kottureshwara Davangere Benne Dosa</td>\n",
       "      <td>Yes</td>\n",
       "      <td>No</td>\n",
       "      <td>4.1</td>\n",
       "      <td>558</td>\n",
       "      <td>Basavanagudi</td>\n",
       "      <td>Quick Bites</td>\n",
       "      <td>[dosa, mirchi bajji, coffee, poha, tea, dosa, ...</td>\n",
       "      <td>[south indian]</td>\n",
       "      <td>150</td>\n",
       "      <td>[4.0, 4.0, 4.0, 5.0, 4.0, 3.0, 3.0, 4.0, 5.0, ...</td>\n",
       "      <td>goto benne dosa placethe paddu must trythe chu...</td>\n",
       "      <td>1</td>\n",
       "      <td>[dosa, mirchi bajji, coffee, poha, tea, dosa, ...</td>\n",
       "      <td>4.0</td>\n",
       "      <td>12.9417261</td>\n",
       "      <td>77.5755021</td>\n",
       "      <td>0.019374</td>\n",
       "      <td>1.574791</td>\n",
       "    </tr>\n",
       "    <tr>\n",
       "      <th>280</th>\n",
       "      <td>459/30, 30th Cross, 4th Block, Jayanagar, Bang...</td>\n",
       "      <td>Maiyas</td>\n",
       "      <td>Yes</td>\n",
       "      <td>No</td>\n",
       "      <td>4.0</td>\n",
       "      <td>1778</td>\n",
       "      <td>Jayanagar</td>\n",
       "      <td>Quick Bites</td>\n",
       "      <td>[coffee, thali, kharabath, dosa, idli, icecrea...</td>\n",
       "      <td>[north indian, south indian, fast food, bevera...</td>\n",
       "      <td>200</td>\n",
       "      <td>[1.0, 4.0, 4.0, 3.0, 4.0, 4.0, 3.0, 5.0, 4.0, ...</td>\n",
       "      <td>sunday time taken provide seating  minutes way...</td>\n",
       "      <td>4</td>\n",
       "      <td>[coffee, thali, kharabath, dosa, idli, icecrea...</td>\n",
       "      <td>3.8</td>\n",
       "      <td>12.9292731</td>\n",
       "      <td>77.5824229</td>\n",
       "      <td>0.000000</td>\n",
       "      <td>0.000000</td>\n",
       "    </tr>\n",
       "    <tr>\n",
       "      <th>78</th>\n",
       "      <td>295/A, 7th Main road, 7th Block, 3rd Stage, Ba...</td>\n",
       "      <td>Mane Thindi</td>\n",
       "      <td>No</td>\n",
       "      <td>No</td>\n",
       "      <td>3.7</td>\n",
       "      <td>130</td>\n",
       "      <td>Banashankari</td>\n",
       "      <td>Quick Bites</td>\n",
       "      <td>[coffee, tea, kesari bath, dosa, vada, idli, d...</td>\n",
       "      <td>[south indian]</td>\n",
       "      <td>200</td>\n",
       "      <td>[3.0, 4.0, 2.0, 3.0, 3.0, 3.0, 3.0, 4.0, 2.0, ...</td>\n",
       "      <td>ambience might greatest suite dosas next time ...</td>\n",
       "      <td>1</td>\n",
       "      <td>[coffee, tea, kesari bath, dosa, vada, idli, d...</td>\n",
       "      <td>3.6</td>\n",
       "      <td>12.965283249999999</td>\n",
       "      <td>77.59445195</td>\n",
       "      <td>0.048039</td>\n",
       "      <td>4.210993</td>\n",
       "    </tr>\n",
       "  </tbody>\n",
       "</table>\n",
       "</div>"
      ],
      "text/plain": [
       "                                                address  \\\n",
       "1281  6, 9th Cross, 9th Main, 2nd Block, Jayanagar, ...   \n",
       "1083  764/44, 37th Cross 18th Main, 4th T Block, Jay...   \n",
       "1119  36, 12th Main, 27th Cross , 4th Block, Jayanag...   \n",
       "64    49/1, Subbaraoshetty Road, Netkallappa Circle,...   \n",
       "280   459/30, 30th Cross, 4th Block, Jayanagar, Bang...   \n",
       "78    295/A, 7th Main road, 7th Block, 3rd Stage, Ba...   \n",
       "\n",
       "                                             name online_order book_table  \\\n",
       "1281                               Bengaluru Cafe           No         No   \n",
       "1083                         Mysuru Coffee Thindi          Yes         No   \n",
       "1119                       Vakulaa Veg Restaurant          Yes         No   \n",
       "64    Sri Guru Kottureshwara Davangere Benne Dosa          Yes         No   \n",
       "280                                        Maiyas          Yes         No   \n",
       "78                                    Mane Thindi           No         No   \n",
       "\n",
       "      rate votes      location    rest_type  \\\n",
       "1281   4.4   134     Jayanagar  Quick Bites   \n",
       "1083   4.1   296     Jayanagar  Quick Bites   \n",
       "1119   3.9    49     Jayanagar  Quick Bites   \n",
       "64     4.1   558  Basavanagudi  Quick Bites   \n",
       "280    4.0  1778     Jayanagar  Quick Bites   \n",
       "78     3.7   130  Banashankari  Quick Bites   \n",
       "\n",
       "                                             dish_liked  \\\n",
       "1281  [kesari bath, dosa, kharabath, tea, coffee, id...   \n",
       "1083  [coffee, dosa, tea, badam milk, vada, idli, dosa]   \n",
       "1119                 [dosa, coffee, pongal, tea, bonda]   \n",
       "64    [dosa, mirchi bajji, coffee, poha, tea, dosa, ...   \n",
       "280   [coffee, thali, kharabath, dosa, idli, icecrea...   \n",
       "78    [coffee, tea, kesari bath, dosa, vada, idli, d...   \n",
       "\n",
       "                                               cuisines  \\\n",
       "1281                                     [south indian]   \n",
       "1083                          [south indian, beverages]   \n",
       "1119                       [south indian, north indian]   \n",
       "64                                       [south indian]   \n",
       "280   [north indian, south indian, fast food, bevera...   \n",
       "78                                       [south indian]   \n",
       "\n",
       "     approx_cost(for two people)  \\\n",
       "1281                         150   \n",
       "1083                         200   \n",
       "1119                         200   \n",
       "64                           150   \n",
       "280                          200   \n",
       "78                           200   \n",
       "\n",
       "                                       list_review_rate  \\\n",
       "1281  [3.0, 4.0, 4.0, 5.0, 5.0, 4.0, 4.0, 4.0, 4.0, ...   \n",
       "1083                               [5.0, 3.0, 4.0, 4.0]   \n",
       "1119                                    [4.0, 4.0, 5.0]   \n",
       "64    [4.0, 4.0, 4.0, 5.0, 4.0, 3.0, 3.0, 4.0, 5.0, ...   \n",
       "280   [1.0, 4.0, 4.0, 3.0, 4.0, 4.0, 3.0, 5.0, 4.0, ...   \n",
       "78    [3.0, 4.0, 2.0, 3.0, 3.0, 3.0, 3.0, 4.0, 2.0, ...   \n",
       "\n",
       "                                                reviews no_of_cuisines  \\\n",
       "1281  well cafe eye catching jayanagar food good opt...              1   \n",
       "1083  one best breakfast n tiffin places idli wadas ...              2   \n",
       "1119  best place south indian dishes pocket friendly...              2   \n",
       "64    goto benne dosa placethe paddu must trythe chu...              1   \n",
       "280   sunday time taken provide seating  minutes way...              4   \n",
       "78    ambience might greatest suite dosas next time ...              1   \n",
       "\n",
       "                                         dish_liked_org  final_rate  \\\n",
       "1281  [kesari bath, dosa, kharabath, tea, coffee, id...         4.4   \n",
       "1083  [coffee, dosa, tea, badam milk, vada, idli, dosa]         4.1   \n",
       "1119                 [dosa, coffee, pongal, tea, bonda]         4.1   \n",
       "64    [dosa, mirchi bajji, coffee, poha, tea, dosa, ...         4.0   \n",
       "280   [coffee, thali, kharabath, dosa, idli, icecrea...         3.8   \n",
       "78    [coffee, tea, kesari bath, dosa, vada, idli, d...         3.6   \n",
       "\n",
       "                     lat         long  man_dist  loc_dist_km  \n",
       "1281          12.9292731   77.5824229  0.000000     0.000000  \n",
       "1083          12.9292731   77.5824229  0.000000     0.000000  \n",
       "1119          12.9292731   77.5824229  0.000000     0.000000  \n",
       "64            12.9417261   77.5755021  0.019374     1.574791  \n",
       "280           12.9292731   77.5824229  0.000000     0.000000  \n",
       "78    12.965283249999999  77.59445195  0.048039     4.210993  "
      ]
     },
     "execution_count": 27,
     "metadata": {},
     "output_type": "execute_result"
    }
   ],
   "source": [
    "final_rec"
   ]
  },
  {
   "cell_type": "code",
   "execution_count": null,
   "metadata": {},
   "outputs": [],
   "source": []
  }
 ],
 "metadata": {
  "kernelspec": {
   "display_name": "Python 3",
   "language": "python",
   "name": "python3"
  },
  "language_info": {
   "codemirror_mode": {
    "name": "ipython",
    "version": 3
   },
   "file_extension": ".py",
   "mimetype": "text/x-python",
   "name": "python",
   "nbconvert_exporter": "python",
   "pygments_lexer": "ipython3",
   "version": "3.8.5"
  }
 },
 "nbformat": 4,
 "nbformat_minor": 4
}
